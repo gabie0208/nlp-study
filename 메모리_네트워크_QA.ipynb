{
  "nbformat": 4,
  "nbformat_minor": 0,
  "metadata": {
    "colab": {
      "name": "메모리 네트워크 QA",
      "provenance": [],
      "collapsed_sections": [],
      "include_colab_link": true
    },
    "kernelspec": {
      "display_name": "Python 3",
      "name": "python3"
    }
  },
  "cells": [
    {
      "cell_type": "markdown",
      "metadata": {
        "id": "view-in-github",
        "colab_type": "text"
      },
      "source": [
        "<a href=\"https://colab.research.google.com/github/gabie0208/nlp-study/blob/main/%EB%A9%94%EB%AA%A8%EB%A6%AC_%EB%84%A4%ED%8A%B8%EC%9B%8C%ED%81%AC_QA.ipynb\" target=\"_parent\"><img src=\"https://colab.research.google.com/assets/colab-badge.svg\" alt=\"Open In Colab\"/></a>"
      ]
    },
    {
      "cell_type": "markdown",
      "metadata": {
        "id": "YtP8ZuteNnXu"
      },
      "source": [
        "링크 : https://wikidocs.net/82475"
      ]
    },
    {
      "cell_type": "code",
      "metadata": {
        "colab": {
          "base_uri": "https://localhost:8080/",
          "height": 35
        },
        "id": "jJWHK_eANDN0",
        "outputId": "aa946e96-864e-4328-ad7a-eac9e105bfbd"
      },
      "source": [
        "import tensorflow as tf\n",
        "tf.__version__"
      ],
      "execution_count": null,
      "outputs": [
        {
          "output_type": "execute_result",
          "data": {
            "application/vnd.google.colaboratory.intrinsic+json": {
              "type": "string"
            },
            "text/plain": [
              "'2.6.0'"
            ]
          },
          "metadata": {},
          "execution_count": 2
        }
      ]
    },
    {
      "cell_type": "markdown",
      "metadata": {
        "id": "fs9zPMoeDZzb"
      },
      "source": [
        "# 메모리 네트워크를 이용한 영어 QA"
      ]
    },
    {
      "cell_type": "code",
      "metadata": {
        "id": "qVLCRblwDXEl"
      },
      "source": [
        "from tensorflow.keras.utils import get_file\n",
        "from tensorflow.keras.preprocessing.sequence import pad_sequences\n",
        "from tensorflow.keras.utils import to_categorical\n",
        "import numpy as np\n",
        "import tarfile\n",
        "from nltk import FreqDist\n",
        "from functools import reduce\n",
        "import os\n",
        "import re\n",
        "import matplotlib.pyplot as plt"
      ],
      "execution_count": null,
      "outputs": []
    },
    {
      "cell_type": "markdown",
      "metadata": {
        "id": "qJ2N0w4iFRDX"
      },
      "source": [
        "## 데이터 로드"
      ]
    },
    {
      "cell_type": "code",
      "metadata": {
        "colab": {
          "base_uri": "https://localhost:8080/"
        },
        "id": "AmBTrc8BDX9X",
        "outputId": "de87cdb3-f140-4559-b98f-3b1852c01475"
      },
      "source": [
        "path = get_file('babi-tasks-v1-2.tar.gz', origin='https://s3.amazonaws.com/text-datasets/'\n",
        "                'babi_tasks_1-20_v1-2.tar.gz')"
      ],
      "execution_count": null,
      "outputs": [
        {
          "output_type": "stream",
          "name": "stdout",
          "text": [
            "Downloading data from https://s3.amazonaws.com/text-datasets/babi_tasks_1-20_v1-2.tar.gz\n",
            "11747328/11745123 [==============================] - 0s 0us/step\n",
            "11755520/11745123 [==============================] - 0s 0us/step\n"
          ]
        }
      ]
    },
    {
      "cell_type": "code",
      "metadata": {
        "id": "eJj30yVoDYEG"
      },
      "source": [
        "with tarfile.open(path) as tar:\n",
        " tar.extractall()\n",
        " tar.close()\n",
        "\n",
        "DATA_DIR = 'tasks_1-20_v1-2/en-10k'\n",
        "TRAIN_FILE = os.path.join(DATA_DIR, \"qa1_single-supporting-fact_train.txt\")\n",
        "TEST_FILE = os.path.join(DATA_DIR, \"qa1_single-supporting-fact_test.txt\")"
      ],
      "execution_count": null,
      "outputs": []
    },
    {
      "cell_type": "markdown",
      "metadata": {
        "id": "qRxkEc8oFTjb"
      },
      "source": [
        "## Babi 데이터셋 확인"
      ]
    },
    {
      "cell_type": "code",
      "metadata": {
        "colab": {
          "base_uri": "https://localhost:8080/"
        },
        "id": "GciuOfrjDYMH",
        "outputId": "8eda1e0e-2515-45f9-b3c2-99aa9da82509"
      },
      "source": [
        "i = 0\n",
        "lines = open(TRAIN_FILE , \"rb\")\n",
        "for line in lines:\n",
        "    line = line.decode(\"utf-8\").strip()\n",
        "    # lno, text = line.split(\" \", 1) # ID와 TEXT 분리\n",
        "    i = i + 1\n",
        "    print(line)\n",
        "    if i == 20:\n",
        "      break"
      ],
      "execution_count": null,
      "outputs": [
        {
          "output_type": "stream",
          "name": "stdout",
          "text": [
            "1 Mary moved to the bathroom.\n",
            "2 John went to the hallway.\n",
            "3 Where is Mary? \tbathroom\t1\n",
            "4 Daniel went back to the hallway.\n",
            "5 Sandra moved to the garden.\n",
            "6 Where is Daniel? \thallway\t4\n",
            "7 John moved to the office.\n",
            "8 Sandra journeyed to the bathroom.\n",
            "9 Where is Daniel? \thallway\t4\n",
            "10 Mary moved to the hallway.\n",
            "11 Daniel travelled to the office.\n",
            "12 Where is Daniel? \toffice\t11\n",
            "13 John went back to the garden.\n",
            "14 John moved to the bedroom.\n",
            "15 Where is Sandra? \tbathroom\t8\n",
            "1 Sandra travelled to the office.\n",
            "2 Sandra went to the bathroom.\n",
            "3 Where is Sandra? \tbathroom\t2\n",
            "4 Mary went to the bedroom.\n",
            "5 Daniel moved to the hallway.\n"
          ]
        }
      ]
    },
    {
      "cell_type": "markdown",
      "metadata": {
        "id": "liYRP4mKFWVQ"
      },
      "source": [
        "## 스토리, 질문, 답변 분리"
      ]
    },
    {
      "cell_type": "code",
      "metadata": {
        "id": "-xZ4hjTPDYPM"
      },
      "source": [
        "def read_data(dir):\n",
        "    stories, questions, answers = [], [], [] # 각각 스토리, 질문, 답변을 저장할 예정\n",
        "    story_temp = [] # 현재 시점의 스토리 임시 저장\n",
        "    lines = open(dir, \"rb\")\n",
        "\n",
        "    for line in lines:\n",
        "        line = line.decode(\"utf-8\") # b' 제거\n",
        "        line = line.strip() # '\\n' 제거\n",
        "        idx, text = line.split(\" \", 1) # 맨 앞에 있는 id number 분리\n",
        "        # 여기까지는 모든 줄에 적용되는 전처리\n",
        "\n",
        "        if int(idx) == 1:\n",
        "            story_temp = []\n",
        "\n",
        "        if \"\\t\" in text: # 현재 읽는 줄이 질문 (tab) 답변 (tab)인 경우\n",
        "            question, answer, _ = text.split(\"\\t\") # 질문과 답변을 각각 저장\n",
        "            stories.append([x for x in story_temp if x]) # 지금까지의 누적 스토리를 스토리에 저장\n",
        "            questions.append(question)\n",
        "            answers.append(answer)\n",
        "\n",
        "        else: # 현재 읽는 줄이 스토리인 경우\n",
        "            story_temp.append(text) # 임시 저장\n",
        "\n",
        "    lines.close()\n",
        "    return stories, questions, answers"
      ],
      "execution_count": null,
      "outputs": []
    },
    {
      "cell_type": "code",
      "metadata": {
        "id": "dNAOOBbfDYJm"
      },
      "source": [
        "train_data = read_data(TRAIN_FILE)\n",
        "test_data = read_data(TEST_FILE)"
      ],
      "execution_count": null,
      "outputs": []
    },
    {
      "cell_type": "code",
      "metadata": {
        "id": "fNh7jAryDYHI"
      },
      "source": [
        "train_stories, train_questions, train_answers = read_data(TRAIN_FILE)\n",
        "test_stories, test_questions, test_answers = read_data(TEST_FILE)"
      ],
      "execution_count": null,
      "outputs": []
    },
    {
      "cell_type": "code",
      "metadata": {
        "colab": {
          "base_uri": "https://localhost:8080/"
        },
        "id": "EAe5T7j5Dj0R",
        "outputId": "294b4702-8e4c-430d-8c71-bcd91bb95580"
      },
      "source": [
        "print('훈련용 스토리의 개수 :', len(train_stories))\n",
        "print('훈련용 질문의 개수 :',len(train_questions))\n",
        "print('훈련용 답변의 개수 :',len(train_answers))\n",
        "print('테스트용 스토리의 개수 :',len(test_stories))\n",
        "print('테스트용 질문의 개수 :',len(test_questions))\n",
        "print('테스트용 답변의 개수 :',len(test_answers))"
      ],
      "execution_count": null,
      "outputs": [
        {
          "output_type": "stream",
          "name": "stdout",
          "text": [
            "훈련용 스토리의 개수 : 10000\n",
            "훈련용 질문의 개수 : 10000\n",
            "훈련용 답변의 개수 : 10000\n",
            "테스트용 스토리의 개수 : 1000\n",
            "테스트용 질문의 개수 : 1000\n",
            "테스트용 답변의 개수 : 1000\n"
          ]
        }
      ]
    },
    {
      "cell_type": "code",
      "metadata": {
        "colab": {
          "base_uri": "https://localhost:8080/"
        },
        "id": "vH-whk9FDlF9",
        "outputId": "978bdf69-7af3-40c4-9d77-f9bf308a0d4b"
      },
      "source": [
        "train_stories[3576]"
      ],
      "execution_count": null,
      "outputs": [
        {
          "output_type": "execute_result",
          "data": {
            "text/plain": [
              "['John went back to the garden.',\n",
              " 'Mary went to the kitchen.',\n",
              " 'Sandra went back to the bedroom.',\n",
              " 'John travelled to the bedroom.']"
            ]
          },
          "metadata": {},
          "execution_count": 11
        }
      ]
    },
    {
      "cell_type": "code",
      "metadata": {
        "colab": {
          "base_uri": "https://localhost:8080/",
          "height": 35
        },
        "id": "fI9AfnQvDl07",
        "outputId": "e41e0f67-6fc4-4091-944a-573e7abcfe36"
      },
      "source": [
        "train_questions[3576]"
      ],
      "execution_count": null,
      "outputs": [
        {
          "output_type": "execute_result",
          "data": {
            "application/vnd.google.colaboratory.intrinsic+json": {
              "type": "string"
            },
            "text/plain": [
              "'Where is John? '"
            ]
          },
          "metadata": {},
          "execution_count": 12
        }
      ]
    },
    {
      "cell_type": "code",
      "metadata": {
        "colab": {
          "base_uri": "https://localhost:8080/",
          "height": 35
        },
        "id": "c-gE6Y2CDm1W",
        "outputId": "6f2a8e07-1392-4c64-e556-cd77ec5dae1a"
      },
      "source": [
        "train_answers[3576]"
      ],
      "execution_count": null,
      "outputs": [
        {
          "output_type": "execute_result",
          "data": {
            "application/vnd.google.colaboratory.intrinsic+json": {
              "type": "string"
            },
            "text/plain": [
              "'bedroom'"
            ]
          },
          "metadata": {},
          "execution_count": 13
        }
      ]
    },
    {
      "cell_type": "markdown",
      "metadata": {
        "id": "a-6z6RxyFez9"
      },
      "source": [
        "## 단어 집합 생성 및 토큰화 및 스토리와 질문의 최대 길이 구하기  \n",
        "단, 스토리는 모두 펼쳐서 하나의 샘플 처리."
      ]
    },
    {
      "cell_type": "code",
      "metadata": {
        "id": "SE6GiR7DDokB"
      },
      "source": [
        "def tokenize(sent):\n",
        "    return [ x.strip() for x in re.split('(\\W+)', sent) if x and x.strip()]"
      ],
      "execution_count": null,
      "outputs": []
    },
    {
      "cell_type": "code",
      "metadata": {
        "id": "HykreiVoDp_Q"
      },
      "source": [
        "def preprocess_data(train_data, test_data):\n",
        "    counter = FreqDist()\n",
        "\n",
        "    # 두 문장의 story를 하나의 문장으로 통합하는 함수\n",
        "    flatten = lambda data: reduce(lambda x, y: x + y, data)\n",
        "\n",
        "    # 각 샘플의 길이를 저장하는 리스트\n",
        "    story_len = []\n",
        "    question_len = []\n",
        "\n",
        "    for stories, questions, answers in [train_data, test_data]:\n",
        "        for story in stories:\n",
        "            stories = tokenize(flatten(story)) # 스토리의 문장들을 펼친 후 토큰화\n",
        "            story_len.append(len(stories)) # 각 story의 길이 저장\n",
        "            for word in stories: # 단어 집합에 단어 추가\n",
        "                counter[word] += 1\n",
        "        for question in questions:\n",
        "            question = tokenize(question)\n",
        "            question_len.append(len(question))\n",
        "            for word in question:\n",
        "                counter[word] += 1\n",
        "        for answer in answers:\n",
        "            answer = tokenize(answer)\n",
        "            for word in answer:\n",
        "                counter[word] += 1\n",
        "\n",
        "    # 단어 집합 생성\n",
        "    word2idx = {word : (idx + 1) for idx, (word, _) in enumerate(counter.most_common())}\n",
        "    idx2word = {idx : word for word, idx in word2idx.items()}\n",
        "\n",
        "    # 가장 긴 샘플의 길이\n",
        "    story_max_len = np.max(story_len)\n",
        "    question_max_len = np.max(question_len)\n",
        "\n",
        "    return word2idx, idx2word, story_max_len, question_max_len"
      ],
      "execution_count": null,
      "outputs": []
    },
    {
      "cell_type": "code",
      "metadata": {
        "id": "uFzvZx8PDrik"
      },
      "source": [
        "word2idx, idx2word, story_max_len, question_max_len = preprocess_data(train_data, test_data)"
      ],
      "execution_count": null,
      "outputs": []
    },
    {
      "cell_type": "code",
      "metadata": {
        "colab": {
          "base_uri": "https://localhost:8080/"
        },
        "id": "ss6DWK9IDtIr",
        "outputId": "075b4bbc-30a7-4045-ec3f-d3fd69974225"
      },
      "source": [
        "print(word2idx)"
      ],
      "execution_count": null,
      "outputs": [
        {
          "output_type": "stream",
          "name": "stdout",
          "text": [
            "{'to': 1, 'the': 2, '.': 3, 'went': 4, 'Sandra': 5, 'John': 6, 'Daniel': 7, 'Mary': 8, 'travelled': 9, 'journeyed': 10, 'back': 11, 'bathroom': 12, 'garden': 13, 'hallway': 14, 'moved': 15, 'office': 16, 'kitchen': 17, 'bedroom': 18, 'Where': 19, 'is': 20, '?': 21}\n"
          ]
        }
      ]
    },
    {
      "cell_type": "code",
      "metadata": {
        "id": "hbGiMRvuDu1k"
      },
      "source": [
        "vocab_size = len(word2idx) + 1"
      ],
      "execution_count": null,
      "outputs": []
    },
    {
      "cell_type": "code",
      "metadata": {
        "colab": {
          "base_uri": "https://localhost:8080/"
        },
        "id": "F7x14T1-DwC8",
        "outputId": "ba8315aa-bc61-4780-fd66-f8c99168e325"
      },
      "source": [
        "print('스토리의 최대 길이 :',story_max_len)\n",
        "print('질문의 최대 길이 :',question_max_len)"
      ],
      "execution_count": null,
      "outputs": [
        {
          "output_type": "stream",
          "name": "stdout",
          "text": [
            "스토리의 최대 길이 : 68\n",
            "질문의 최대 길이 : 4\n"
          ]
        }
      ]
    },
    {
      "cell_type": "markdown",
      "metadata": {
        "id": "nXGyRWzuF4Df"
      },
      "source": [
        "## 정수 인코딩 및 패딩"
      ]
    },
    {
      "cell_type": "code",
      "metadata": {
        "id": "-zqvr2MADxOg"
      },
      "source": [
        "def vectorize(data, word2idx, story_maxlen, question_maxlen):\n",
        "    Xs, Xq, Y = [], [], []\n",
        "    flatten = lambda data: reduce(lambda x, y: x + y, data)\n",
        "\n",
        "    stories, questions, answers = data\n",
        "    for story, question, answer in zip(stories, questions, answers):\n",
        "        xs = [word2idx[w] for w in tokenize(flatten(story))]\n",
        "        xq = [word2idx[w] for w in tokenize(question)]\n",
        "        Xs.append(xs)\n",
        "        Xq.append(xq)\n",
        "        Y.append(word2idx[answer])\n",
        "\n",
        "        # 스토리와 질문은 각각의 최대 길이로 패딩\n",
        "        # 정답은 원-핫 인코딩\n",
        "    return pad_sequences(Xs, maxlen=story_maxlen),\\\n",
        "           pad_sequences(Xq, maxlen=question_maxlen),\\\n",
        "           to_categorical(Y, num_classes=len(word2idx) + 1)"
      ],
      "execution_count": null,
      "outputs": []
    },
    {
      "cell_type": "code",
      "metadata": {
        "id": "PbKaunR_Dyjh"
      },
      "source": [
        "Xstrain, Xqtrain, Ytrain = vectorize(train_data, word2idx, story_max_len, question_max_len)\n",
        "Xstest, Xqtest, Ytest = vectorize(test_data, word2idx, story_max_len, question_max_len)"
      ],
      "execution_count": null,
      "outputs": []
    },
    {
      "cell_type": "code",
      "metadata": {
        "colab": {
          "base_uri": "https://localhost:8080/"
        },
        "id": "PUiYGluHD0s2",
        "outputId": "a4a6e5b7-358f-41bc-b420-367972089d4a"
      },
      "source": [
        "print(Xstrain.shape, Xqtrain.shape, Ytrain.shape, Xstest.shape, Xqtest.shape, Ytest.shape)"
      ],
      "execution_count": null,
      "outputs": [
        {
          "output_type": "stream",
          "name": "stdout",
          "text": [
            "(10000, 68) (10000, 4) (10000, 22) (1000, 68) (1000, 4) (1000, 22)\n"
          ]
        }
      ]
    },
    {
      "cell_type": "code",
      "metadata": {
        "colab": {
          "base_uri": "https://localhost:8080/"
        },
        "id": "aucZyNPSD2eM",
        "outputId": "52f3a35a-e4a9-4a2a-ca8f-496ea4400693"
      },
      "source": [
        "Xstrain[3576]"
      ],
      "execution_count": null,
      "outputs": [
        {
          "output_type": "execute_result",
          "data": {
            "text/plain": [
              "array([ 0,  0,  0,  0,  0,  0,  0,  0,  0,  0,  0,  0,  0,  0,  0,  0,  0,\n",
              "        0,  0,  0,  0,  0,  0,  0,  0,  0,  0,  0,  0,  0,  0,  0,  0,  0,\n",
              "        0,  0,  0,  0,  0,  0,  0,  0,  6,  4, 11,  1,  2, 13,  3,  8,  4,\n",
              "        1,  2, 17,  3,  5,  4, 11,  1,  2, 18,  3,  6,  9,  1,  2, 18,  3],\n",
              "      dtype=int32)"
            ]
          },
          "metadata": {},
          "execution_count": 23
        }
      ]
    },
    {
      "cell_type": "code",
      "metadata": {
        "colab": {
          "base_uri": "https://localhost:8080/"
        },
        "id": "XusaXO8LD6d8",
        "outputId": "e53a9dd3-faab-43d7-d54b-8ef5ced86a06"
      },
      "source": [
        "Xqtrain[3576]"
      ],
      "execution_count": null,
      "outputs": [
        {
          "output_type": "execute_result",
          "data": {
            "text/plain": [
              "array([19, 20,  6, 21], dtype=int32)"
            ]
          },
          "metadata": {},
          "execution_count": 24
        }
      ]
    },
    {
      "cell_type": "code",
      "metadata": {
        "colab": {
          "base_uri": "https://localhost:8080/"
        },
        "id": "VVRkfkJwD-Kj",
        "outputId": "d8a305d0-5346-49c4-e455-54fba512e3a2"
      },
      "source": [
        "Ytrain[3576]"
      ],
      "execution_count": null,
      "outputs": [
        {
          "output_type": "execute_result",
          "data": {
            "text/plain": [
              "array([0., 0., 0., 0., 0., 0., 0., 0., 0., 0., 0., 0., 0., 0., 0., 0., 0.,\n",
              "       0., 1., 0., 0., 0.], dtype=float32)"
            ]
          },
          "metadata": {},
          "execution_count": 25
        }
      ]
    },
    {
      "cell_type": "markdown",
      "metadata": {
        "id": "zdj_11K2F6Rt"
      },
      "source": [
        "## 메모리 네트워크 구현"
      ]
    },
    {
      "cell_type": "code",
      "metadata": {
        "id": "H6XWVvzPEApv"
      },
      "source": [
        "from tensorflow.keras.models import Sequential, Model\n",
        "from tensorflow.keras.layers import Embedding\n",
        "from tensorflow.keras.layers import Permute, dot, add, concatenate\n",
        "from tensorflow.keras.layers import LSTM, Dense, Dropout, Input, Activation"
      ],
      "execution_count": null,
      "outputs": []
    },
    {
      "cell_type": "code",
      "metadata": {
        "id": "fVBqicL_EB2f"
      },
      "source": [
        "# 에포크 횟수\n",
        "train_epochs = 120\n",
        "# 배치 크기\n",
        "batch_size = 32\n",
        "# 임베딩 크기\n",
        "embed_size = 50\n",
        "# LSTM의 크기\n",
        "lstm_size = 64\n",
        "# 과적합 방지 기법인 드롭아웃 적용 비율\n",
        "dropout_rate = 0.30"
      ],
      "execution_count": null,
      "outputs": []
    },
    {
      "cell_type": "code",
      "metadata": {
        "colab": {
          "base_uri": "https://localhost:8080/"
        },
        "id": "p8saI92oEC86",
        "outputId": "3601d73c-c84b-427e-853a-3cecc458452a"
      },
      "source": [
        "# 플레이스 홀더. 입력을 담는 변수\n",
        "input_sequence = Input((story_max_len,))\n",
        "question = Input((question_max_len,))\n",
        "\n",
        "print('Stories :', input_sequence)\n",
        "print('Question:', question)"
      ],
      "execution_count": null,
      "outputs": [
        {
          "output_type": "stream",
          "name": "stdout",
          "text": [
            "Stories : KerasTensor(type_spec=TensorSpec(shape=(None, 68), dtype=tf.float32, name='input_3'), name='input_3', description=\"created by layer 'input_3'\")\n",
            "Question: KerasTensor(type_spec=TensorSpec(shape=(None, 4), dtype=tf.float32, name='input_4'), name='input_4', description=\"created by layer 'input_4'\")\n"
          ]
        }
      ]
    },
    {
      "cell_type": "code",
      "metadata": {
        "id": "-2gNvy-wEECC"
      },
      "source": [
        "# 스토리를 위한 첫번째 임베딩. 그림에서의 Embedding A\n",
        "input_encoder_m = Sequential()\n",
        "input_encoder_m.add(Embedding(input_dim=vocab_size,\n",
        "                              output_dim=embed_size))\n",
        "input_encoder_m.add(Dropout(dropout_rate))\n",
        "# 결과 : (samples, story_max_len, embedding_dim) / 샘플의 수, 문장의 최대 길이, 임베딩 벡터의 차원\n",
        "\n",
        "# 스토리를 위한 두번째 임베딩. 그림에서의 Embedding C\n",
        "# 임베딩 벡터의 차원을 question_max_len(질문의 최대 길이)로 한다.\n",
        "input_encoder_c = Sequential()\n",
        "input_encoder_c.add(Embedding(input_dim=vocab_size,\n",
        "                              output_dim=question_max_len))\n",
        "input_encoder_c.add(Dropout(dropout_rate))\n",
        "# 결과 : (samples, story_max_len, question_max_len) / 샘플의 수, 문장의 최대 길이, 질문의 최대 길이(임베딩 벡터의 차원)"
      ],
      "execution_count": null,
      "outputs": []
    },
    {
      "cell_type": "code",
      "metadata": {
        "id": "wnNOXEPDEGJj"
      },
      "source": [
        "# 질문을 위한 임베딩. 그림에서의 Embedding B\n",
        "question_encoder = Sequential()\n",
        "question_encoder.add(Embedding(input_dim=vocab_size,\n",
        "                               output_dim=embed_size,\n",
        "                               input_length=question_max_len))\n",
        "question_encoder.add(Dropout(dropout_rate))\n",
        "# 결과 : (samples, question_max_len, embedding_dim) / 샘플의 수, 질문의 최대 길이, 임베딩 벡터의 차원"
      ],
      "execution_count": null,
      "outputs": []
    },
    {
      "cell_type": "code",
      "metadata": {
        "colab": {
          "base_uri": "https://localhost:8080/"
        },
        "id": "ukaymDiSEHcs",
        "outputId": "7614db8f-897a-4722-e1f3-e72e36a72821"
      },
      "source": [
        "# 실질적인 임베딩 과정\n",
        "input_encoded_m = input_encoder_m(input_sequence)\n",
        "input_encoded_c = input_encoder_c(input_sequence)\n",
        "question_encoded = question_encoder(question)\n",
        "\n",
        "print('Input encoded m', input_encoded_m)\n",
        "print('Input encoded c', input_encoded_c)\n",
        "print('Question encoded', question_encoded)"
      ],
      "execution_count": null,
      "outputs": [
        {
          "output_type": "stream",
          "name": "stdout",
          "text": [
            "Input encoded m KerasTensor(type_spec=TensorSpec(shape=(None, 68, 50), dtype=tf.float32, name=None), name='sequential_3/dropout_4/Identity:0', description=\"created by layer 'sequential_3'\")\n",
            "Input encoded c KerasTensor(type_spec=TensorSpec(shape=(None, 68, 4), dtype=tf.float32, name=None), name='sequential_4/dropout_5/Identity:0', description=\"created by layer 'sequential_4'\")\n",
            "Question encoded KerasTensor(type_spec=TensorSpec(shape=(None, 4, 50), dtype=tf.float32, name=None), name='sequential_5/dropout_6/Identity:0', description=\"created by layer 'sequential_5'\")\n"
          ]
        }
      ]
    },
    {
      "cell_type": "code",
      "metadata": {
        "colab": {
          "base_uri": "https://localhost:8080/"
        },
        "id": "wh7Gcx9SEItb",
        "outputId": "fff54d50-3854-4dae-ba8c-12a9319c79d2"
      },
      "source": [
        "# 스토리 단어들과 질문 단어들 간의 유사도를 구하는 과정\n",
        "# 유사도는 내적을 사용한다.\n",
        "match = dot([input_encoded_m, question_encoded], axes=-1, normalize=False)\n",
        "match = Activation('softmax')(match)\n",
        "print('Match shape', match)\n",
        "# 결과 : (samples, story_maxlen, question_max_len) / 샘플의 수, 문장의 최대 길이, 질문의 최대 길이"
      ],
      "execution_count": null,
      "outputs": [
        {
          "output_type": "stream",
          "name": "stdout",
          "text": [
            "Match shape KerasTensor(type_spec=TensorSpec(shape=(None, 68, 4), dtype=tf.float32, name=None), name='activation_2/Softmax:0', description=\"created by layer 'activation_2'\")\n"
          ]
        }
      ]
    },
    {
      "cell_type": "code",
      "metadata": {
        "id": "pSdoMHmrEMBR"
      },
      "source": [
        "# 유사도가 반영된 어텐션 분포 행렬과 임베딩 C를 거친 스토리 행렬을 더한다.\n",
        "# 두 행렬 모두 크기는 (68, 4)이다.\n",
        "# 이로부터 얻은 행렬은 어텐션 값 행렬(Attention Value Matrix)이다.\n",
        "response = add([match, input_encoded_c])"
      ],
      "execution_count": null,
      "outputs": []
    },
    {
      "cell_type": "code",
      "metadata": {
        "colab": {
          "base_uri": "https://localhost:8080/"
        },
        "id": "YtvioXUaENXL",
        "outputId": "d91c6c08-6f82-42c1-ba1d-158d4c122ec9"
      },
      "source": [
        "# 질문 행렬은 (4, 50)의 크기를 가진다.\n",
        "# 하지만 어텐션 값 행렬의 크기는 (68, 4)이다.\n",
        "# 이 두 개를 연결시켜주기 위해서 어텐션 값 행렬의 크기를 (4, 68)로 변환해준다.\n",
        "response = Permute((2, 1))(response)  # (samples, question_max_len, story_max_len)\n",
        "print('Response shape', response)\n",
        "\n",
        "# 질문 행렬과 어텐션 값 행렬을 연결한다.\n",
        "# (4, 118)의 크기를 가진다.\n",
        "answer = concatenate([response, question_encoded])\n",
        "print('Answer shape', answer)"
      ],
      "execution_count": null,
      "outputs": [
        {
          "output_type": "stream",
          "name": "stdout",
          "text": [
            "Response shape KerasTensor(type_spec=TensorSpec(shape=(None, 4, 68), dtype=tf.float32, name=None), name='permute_1/transpose:0', description=\"created by layer 'permute_1'\")\n",
            "Answer shape KerasTensor(type_spec=TensorSpec(shape=(None, 4, 118), dtype=tf.float32, name=None), name='concatenate_1/concat:0', description=\"created by layer 'concatenate_1'\")\n"
          ]
        }
      ]
    },
    {
      "cell_type": "code",
      "metadata": {
        "id": "VZ-WVFYOE3Hl"
      },
      "source": [
        "answer = LSTM(lstm_size)(answer)\n",
        "answer = Dropout(dropout_rate)(answer)\n",
        "answer = Dense(vocab_size)(answer)\n",
        "answer = Activation('softmax')(answer)"
      ],
      "execution_count": null,
      "outputs": []
    },
    {
      "cell_type": "code",
      "metadata": {
        "colab": {
          "base_uri": "https://localhost:8080/"
        },
        "id": "KbRKnZa5E6A7",
        "outputId": "1703547d-8d32-426e-e8b7-f7657511c79f"
      },
      "source": [
        "# build the final model\n",
        "model = Model([input_sequence, question], answer)\n",
        "model.compile(optimizer='rmsprop', loss='categorical_crossentropy',\n",
        "              metrics=['acc'])\n",
        "\n",
        "print(model.summary())\n",
        "\n",
        "# start training the model\n",
        "history = model.fit([Xstrain, Xqtrain],\n",
        "         Ytrain, batch_size, train_epochs,\n",
        "         validation_data=([Xstest, Xqtest], Ytest))\n",
        "\n",
        "# save model\n",
        "model.save('model.h5')"
      ],
      "execution_count": null,
      "outputs": [
        {
          "output_type": "stream",
          "name": "stdout",
          "text": [
            "Model: \"model_2\"\n",
            "__________________________________________________________________________________________________\n",
            "Layer (type)                    Output Shape         Param #     Connected to                     \n",
            "==================================================================================================\n",
            "input_3 (InputLayer)            [(None, 68)]         0                                            \n",
            "__________________________________________________________________________________________________\n",
            "input_4 (InputLayer)            [(None, 4)]          0                                            \n",
            "__________________________________________________________________________________________________\n",
            "sequential_3 (Sequential)       (None, None, 50)     1100        input_3[0][0]                    \n",
            "__________________________________________________________________________________________________\n",
            "sequential_5 (Sequential)       (None, 4, 50)        1100        input_4[0][0]                    \n",
            "__________________________________________________________________________________________________\n",
            "dot_1 (Dot)                     (None, 68, 4)        0           sequential_3[0][0]               \n",
            "                                                                 sequential_5[0][0]               \n",
            "__________________________________________________________________________________________________\n",
            "activation_2 (Activation)       (None, 68, 4)        0           dot_1[0][0]                      \n",
            "__________________________________________________________________________________________________\n",
            "sequential_4 (Sequential)       (None, None, 4)      88          input_3[0][0]                    \n",
            "__________________________________________________________________________________________________\n",
            "add_1 (Add)                     (None, 68, 4)        0           activation_2[0][0]               \n",
            "                                                                 sequential_4[0][0]               \n",
            "__________________________________________________________________________________________________\n",
            "permute_1 (Permute)             (None, 4, 68)        0           add_1[0][0]                      \n",
            "__________________________________________________________________________________________________\n",
            "concatenate_1 (Concatenate)     (None, 4, 118)       0           permute_1[0][0]                  \n",
            "                                                                 sequential_5[0][0]               \n",
            "__________________________________________________________________________________________________\n",
            "lstm_1 (LSTM)                   (None, 64)           46848       concatenate_1[0][0]              \n",
            "__________________________________________________________________________________________________\n",
            "dropout_7 (Dropout)             (None, 64)           0           lstm_1[0][0]                     \n",
            "__________________________________________________________________________________________________\n",
            "dense_1 (Dense)                 (None, 22)           1430        dropout_7[0][0]                  \n",
            "__________________________________________________________________________________________________\n",
            "activation_3 (Activation)       (None, 22)           0           dense_1[0][0]                    \n",
            "==================================================================================================\n",
            "Total params: 50,566\n",
            "Trainable params: 50,566\n",
            "Non-trainable params: 0\n",
            "__________________________________________________________________________________________________\n",
            "None\n",
            "Epoch 1/120\n",
            "313/313 [==============================] - 5s 11ms/step - loss: 1.8877 - acc: 0.1724 - val_loss: 1.8049 - val_acc: 0.2210\n",
            "Epoch 2/120\n",
            "313/313 [==============================] - 3s 9ms/step - loss: 1.7108 - acc: 0.2643 - val_loss: 1.6009 - val_acc: 0.3600\n",
            "Epoch 3/120\n",
            "313/313 [==============================] - 3s 9ms/step - loss: 1.5561 - acc: 0.3709 - val_loss: 1.4884 - val_acc: 0.4200\n",
            "Epoch 4/120\n",
            "313/313 [==============================] - 3s 9ms/step - loss: 1.5015 - acc: 0.4086 - val_loss: 1.4990 - val_acc: 0.3980\n",
            "Epoch 5/120\n",
            "313/313 [==============================] - 3s 9ms/step - loss: 1.4530 - acc: 0.4384 - val_loss: 1.3904 - val_acc: 0.4500\n",
            "Epoch 6/120\n",
            "313/313 [==============================] - 3s 9ms/step - loss: 1.3999 - acc: 0.4591 - val_loss: 1.3510 - val_acc: 0.4940\n",
            "Epoch 7/120\n",
            "313/313 [==============================] - 3s 9ms/step - loss: 1.3768 - acc: 0.4709 - val_loss: 1.3212 - val_acc: 0.5000\n",
            "Epoch 8/120\n",
            "313/313 [==============================] - 3s 9ms/step - loss: 1.3583 - acc: 0.4708 - val_loss: 1.3016 - val_acc: 0.5010\n",
            "Epoch 9/120\n",
            "313/313 [==============================] - 3s 9ms/step - loss: 1.3286 - acc: 0.4838 - val_loss: 1.2831 - val_acc: 0.5010\n",
            "Epoch 10/120\n",
            "313/313 [==============================] - 3s 9ms/step - loss: 1.3107 - acc: 0.4944 - val_loss: 1.2750 - val_acc: 0.5190\n",
            "Epoch 11/120\n",
            "313/313 [==============================] - 3s 10ms/step - loss: 1.2940 - acc: 0.4998 - val_loss: 1.2568 - val_acc: 0.5230\n",
            "Epoch 12/120\n",
            "313/313 [==============================] - 3s 9ms/step - loss: 1.2707 - acc: 0.5049 - val_loss: 1.2204 - val_acc: 0.5290\n",
            "Epoch 13/120\n",
            "313/313 [==============================] - 3s 9ms/step - loss: 1.2595 - acc: 0.5093 - val_loss: 1.2194 - val_acc: 0.5270\n",
            "Epoch 14/120\n",
            "313/313 [==============================] - 3s 9ms/step - loss: 1.2229 - acc: 0.5138 - val_loss: 1.2206 - val_acc: 0.5070\n",
            "Epoch 15/120\n",
            "313/313 [==============================] - 3s 9ms/step - loss: 1.2118 - acc: 0.5155 - val_loss: 1.1828 - val_acc: 0.5170\n",
            "Epoch 16/120\n",
            "313/313 [==============================] - 3s 9ms/step - loss: 1.1873 - acc: 0.5152 - val_loss: 1.1586 - val_acc: 0.5250\n",
            "Epoch 17/120\n",
            "313/313 [==============================] - 3s 9ms/step - loss: 1.1781 - acc: 0.5151 - val_loss: 1.1730 - val_acc: 0.5050\n",
            "Epoch 18/120\n",
            "313/313 [==============================] - 3s 9ms/step - loss: 1.1672 - acc: 0.5186 - val_loss: 1.1529 - val_acc: 0.5170\n",
            "Epoch 19/120\n",
            "313/313 [==============================] - 3s 9ms/step - loss: 1.1517 - acc: 0.5211 - val_loss: 1.1529 - val_acc: 0.5150\n",
            "Epoch 20/120\n",
            "313/313 [==============================] - 3s 9ms/step - loss: 1.1461 - acc: 0.5247 - val_loss: 1.1443 - val_acc: 0.5150\n",
            "Epoch 21/120\n",
            "313/313 [==============================] - 3s 9ms/step - loss: 1.1428 - acc: 0.5265 - val_loss: 1.1519 - val_acc: 0.5200\n",
            "Epoch 22/120\n",
            "313/313 [==============================] - 3s 9ms/step - loss: 1.1316 - acc: 0.5323 - val_loss: 1.1497 - val_acc: 0.5210\n",
            "Epoch 23/120\n",
            "313/313 [==============================] - 3s 9ms/step - loss: 1.1291 - acc: 0.5267 - val_loss: 1.1438 - val_acc: 0.5190\n",
            "Epoch 24/120\n",
            "313/313 [==============================] - 3s 9ms/step - loss: 1.1164 - acc: 0.5321 - val_loss: 1.1535 - val_acc: 0.5060\n",
            "Epoch 25/120\n",
            "313/313 [==============================] - 3s 9ms/step - loss: 1.1101 - acc: 0.5319 - val_loss: 1.1574 - val_acc: 0.5190\n",
            "Epoch 26/120\n",
            "313/313 [==============================] - 3s 9ms/step - loss: 1.1042 - acc: 0.5400 - val_loss: 1.1579 - val_acc: 0.5170\n",
            "Epoch 27/120\n",
            "313/313 [==============================] - 3s 9ms/step - loss: 1.0969 - acc: 0.5353 - val_loss: 1.1397 - val_acc: 0.5190\n",
            "Epoch 28/120\n",
            "313/313 [==============================] - 3s 9ms/step - loss: 1.0861 - acc: 0.5417 - val_loss: 1.1555 - val_acc: 0.5040\n",
            "Epoch 29/120\n",
            "313/313 [==============================] - 3s 9ms/step - loss: 1.0839 - acc: 0.5424 - val_loss: 1.1599 - val_acc: 0.5180\n",
            "Epoch 30/120\n",
            "313/313 [==============================] - 3s 10ms/step - loss: 1.0757 - acc: 0.5442 - val_loss: 1.1604 - val_acc: 0.4990\n",
            "Epoch 31/120\n",
            "313/313 [==============================] - 3s 9ms/step - loss: 1.0690 - acc: 0.5504 - val_loss: 1.1512 - val_acc: 0.5200\n",
            "Epoch 32/120\n",
            "313/313 [==============================] - 3s 9ms/step - loss: 1.0629 - acc: 0.5496 - val_loss: 1.1493 - val_acc: 0.5070\n",
            "Epoch 33/120\n",
            "313/313 [==============================] - 3s 9ms/step - loss: 1.0475 - acc: 0.5583 - val_loss: 1.1461 - val_acc: 0.5220\n",
            "Epoch 34/120\n",
            "313/313 [==============================] - 3s 10ms/step - loss: 1.0388 - acc: 0.5643 - val_loss: 1.1278 - val_acc: 0.5230\n",
            "Epoch 35/120\n",
            "313/313 [==============================] - 3s 10ms/step - loss: 1.0107 - acc: 0.5835 - val_loss: 1.1107 - val_acc: 0.5590\n",
            "Epoch 36/120\n",
            "313/313 [==============================] - 3s 9ms/step - loss: 0.9670 - acc: 0.6172 - val_loss: 1.0744 - val_acc: 0.5950\n",
            "Epoch 37/120\n",
            "313/313 [==============================] - 3s 9ms/step - loss: 0.8831 - acc: 0.6646 - val_loss: 0.9027 - val_acc: 0.6610\n",
            "Epoch 38/120\n",
            "313/313 [==============================] - 3s 9ms/step - loss: 0.7357 - acc: 0.7367 - val_loss: 0.6828 - val_acc: 0.7500\n",
            "Epoch 39/120\n",
            "313/313 [==============================] - 3s 9ms/step - loss: 0.6191 - acc: 0.7779 - val_loss: 0.6236 - val_acc: 0.7610\n",
            "Epoch 40/120\n",
            "313/313 [==============================] - 3s 9ms/step - loss: 0.5601 - acc: 0.7939 - val_loss: 0.5961 - val_acc: 0.7780\n",
            "Epoch 41/120\n",
            "313/313 [==============================] - 3s 9ms/step - loss: 0.4973 - acc: 0.8215 - val_loss: 0.5355 - val_acc: 0.7980\n",
            "Epoch 42/120\n",
            "313/313 [==============================] - 3s 9ms/step - loss: 0.4361 - acc: 0.8343 - val_loss: 0.4578 - val_acc: 0.8030\n",
            "Epoch 43/120\n",
            "313/313 [==============================] - 3s 9ms/step - loss: 0.3944 - acc: 0.8519 - val_loss: 0.4131 - val_acc: 0.8320\n",
            "Epoch 44/120\n",
            "313/313 [==============================] - 3s 9ms/step - loss: 0.3675 - acc: 0.8653 - val_loss: 0.3976 - val_acc: 0.8420\n",
            "Epoch 45/120\n",
            "313/313 [==============================] - 3s 10ms/step - loss: 0.3374 - acc: 0.8720 - val_loss: 0.4072 - val_acc: 0.8340\n",
            "Epoch 46/120\n",
            "313/313 [==============================] - 3s 9ms/step - loss: 0.3300 - acc: 0.8768 - val_loss: 0.3840 - val_acc: 0.8400\n",
            "Epoch 47/120\n",
            "313/313 [==============================] - 3s 10ms/step - loss: 0.3235 - acc: 0.8790 - val_loss: 0.3760 - val_acc: 0.8440\n",
            "Epoch 48/120\n",
            "313/313 [==============================] - 3s 9ms/step - loss: 0.3059 - acc: 0.8838 - val_loss: 0.3600 - val_acc: 0.8570\n",
            "Epoch 49/120\n",
            "313/313 [==============================] - 3s 9ms/step - loss: 0.2889 - acc: 0.8906 - val_loss: 0.3868 - val_acc: 0.8430\n",
            "Epoch 50/120\n",
            "313/313 [==============================] - 3s 9ms/step - loss: 0.2878 - acc: 0.8909 - val_loss: 0.3419 - val_acc: 0.8590\n",
            "Epoch 51/120\n",
            "313/313 [==============================] - 3s 10ms/step - loss: 0.2739 - acc: 0.8941 - val_loss: 0.3559 - val_acc: 0.8560\n",
            "Epoch 52/120\n",
            "313/313 [==============================] - 3s 9ms/step - loss: 0.2650 - acc: 0.9028 - val_loss: 0.3339 - val_acc: 0.8660\n",
            "Epoch 53/120\n",
            "313/313 [==============================] - 3s 9ms/step - loss: 0.2571 - acc: 0.9074 - val_loss: 0.3164 - val_acc: 0.8760\n",
            "Epoch 54/120\n",
            "313/313 [==============================] - 3s 10ms/step - loss: 0.2403 - acc: 0.9089 - val_loss: 0.3094 - val_acc: 0.8820\n",
            "Epoch 55/120\n",
            "313/313 [==============================] - 3s 10ms/step - loss: 0.2306 - acc: 0.9127 - val_loss: 0.3409 - val_acc: 0.8720\n",
            "Epoch 56/120\n",
            "313/313 [==============================] - 3s 10ms/step - loss: 0.2066 - acc: 0.9197 - val_loss: 0.2919 - val_acc: 0.8960\n",
            "Epoch 57/120\n",
            "313/313 [==============================] - 3s 9ms/step - loss: 0.2053 - acc: 0.9245 - val_loss: 0.2717 - val_acc: 0.8930\n",
            "Epoch 58/120\n",
            "313/313 [==============================] - 3s 10ms/step - loss: 0.1891 - acc: 0.9317 - val_loss: 0.2551 - val_acc: 0.9140\n",
            "Epoch 59/120\n",
            "313/313 [==============================] - 3s 9ms/step - loss: 0.1726 - acc: 0.9366 - val_loss: 0.2386 - val_acc: 0.9230\n",
            "Epoch 60/120\n",
            "313/313 [==============================] - 3s 9ms/step - loss: 0.1694 - acc: 0.9417 - val_loss: 0.2530 - val_acc: 0.9120\n",
            "Epoch 61/120\n",
            "313/313 [==============================] - 3s 9ms/step - loss: 0.1561 - acc: 0.9434 - val_loss: 0.2336 - val_acc: 0.9160\n",
            "Epoch 62/120\n",
            "313/313 [==============================] - 3s 9ms/step - loss: 0.1477 - acc: 0.9470 - val_loss: 0.2135 - val_acc: 0.9270\n",
            "Epoch 63/120\n",
            "313/313 [==============================] - 3s 9ms/step - loss: 0.1426 - acc: 0.9520 - val_loss: 0.2272 - val_acc: 0.9220\n",
            "Epoch 64/120\n",
            "313/313 [==============================] - 3s 10ms/step - loss: 0.1309 - acc: 0.9520 - val_loss: 0.2229 - val_acc: 0.9260\n",
            "Epoch 65/120\n",
            "313/313 [==============================] - 3s 9ms/step - loss: 0.1313 - acc: 0.9553 - val_loss: 0.1872 - val_acc: 0.9370\n",
            "Epoch 66/120\n",
            "313/313 [==============================] - 3s 9ms/step - loss: 0.1208 - acc: 0.9565 - val_loss: 0.2153 - val_acc: 0.9290\n",
            "Epoch 67/120\n",
            "313/313 [==============================] - 3s 9ms/step - loss: 0.1206 - acc: 0.9584 - val_loss: 0.1979 - val_acc: 0.9290\n",
            "Epoch 68/120\n",
            "313/313 [==============================] - 3s 10ms/step - loss: 0.1208 - acc: 0.9578 - val_loss: 0.1915 - val_acc: 0.9300\n",
            "Epoch 69/120\n",
            "313/313 [==============================] - 3s 9ms/step - loss: 0.1129 - acc: 0.9611 - val_loss: 0.1853 - val_acc: 0.9380\n",
            "Epoch 70/120\n",
            "313/313 [==============================] - 3s 9ms/step - loss: 0.0995 - acc: 0.9648 - val_loss: 0.1852 - val_acc: 0.9320\n",
            "Epoch 71/120\n",
            "313/313 [==============================] - 3s 9ms/step - loss: 0.0993 - acc: 0.9632 - val_loss: 0.1984 - val_acc: 0.9300\n",
            "Epoch 72/120\n",
            "313/313 [==============================] - 3s 9ms/step - loss: 0.0943 - acc: 0.9695 - val_loss: 0.2176 - val_acc: 0.9320\n",
            "Epoch 73/120\n",
            "313/313 [==============================] - 3s 9ms/step - loss: 0.0938 - acc: 0.9669 - val_loss: 0.1850 - val_acc: 0.9410\n",
            "Epoch 74/120\n",
            "313/313 [==============================] - 3s 9ms/step - loss: 0.0838 - acc: 0.9706 - val_loss: 0.2001 - val_acc: 0.9370\n",
            "Epoch 75/120\n",
            "313/313 [==============================] - 3s 9ms/step - loss: 0.0821 - acc: 0.9723 - val_loss: 0.1827 - val_acc: 0.9390\n",
            "Epoch 76/120\n",
            "313/313 [==============================] - 3s 9ms/step - loss: 0.0814 - acc: 0.9717 - val_loss: 0.2061 - val_acc: 0.9410\n",
            "Epoch 77/120\n",
            "313/313 [==============================] - 3s 10ms/step - loss: 0.0746 - acc: 0.9746 - val_loss: 0.2092 - val_acc: 0.9370\n",
            "Epoch 78/120\n",
            "313/313 [==============================] - 3s 10ms/step - loss: 0.0790 - acc: 0.9741 - val_loss: 0.2033 - val_acc: 0.9360\n",
            "Epoch 79/120\n",
            "313/313 [==============================] - 3s 9ms/step - loss: 0.0706 - acc: 0.9763 - val_loss: 0.1823 - val_acc: 0.9390\n",
            "Epoch 80/120\n",
            "313/313 [==============================] - 3s 9ms/step - loss: 0.0708 - acc: 0.9781 - val_loss: 0.1917 - val_acc: 0.9350\n",
            "Epoch 81/120\n",
            "313/313 [==============================] - 3s 10ms/step - loss: 0.0600 - acc: 0.9797 - val_loss: 0.2076 - val_acc: 0.9400\n",
            "Epoch 82/120\n",
            "313/313 [==============================] - 3s 9ms/step - loss: 0.0603 - acc: 0.9800 - val_loss: 0.2074 - val_acc: 0.9440\n",
            "Epoch 83/120\n",
            "313/313 [==============================] - 3s 9ms/step - loss: 0.0633 - acc: 0.9788 - val_loss: 0.1742 - val_acc: 0.9470\n",
            "Epoch 84/120\n",
            "313/313 [==============================] - 3s 9ms/step - loss: 0.0565 - acc: 0.9816 - val_loss: 0.1880 - val_acc: 0.9470\n",
            "Epoch 85/120\n",
            "313/313 [==============================] - 3s 10ms/step - loss: 0.0604 - acc: 0.9806 - val_loss: 0.1941 - val_acc: 0.9510\n",
            "Epoch 86/120\n",
            "313/313 [==============================] - 3s 10ms/step - loss: 0.0570 - acc: 0.9819 - val_loss: 0.1759 - val_acc: 0.9470\n",
            "Epoch 87/120\n",
            "313/313 [==============================] - 3s 10ms/step - loss: 0.0518 - acc: 0.9829 - val_loss: 0.1723 - val_acc: 0.9550\n",
            "Epoch 88/120\n",
            "313/313 [==============================] - 3s 9ms/step - loss: 0.0576 - acc: 0.9829 - val_loss: 0.1804 - val_acc: 0.9480\n",
            "Epoch 89/120\n",
            "313/313 [==============================] - 3s 10ms/step - loss: 0.0549 - acc: 0.9829 - val_loss: 0.1866 - val_acc: 0.9490\n",
            "Epoch 90/120\n",
            "313/313 [==============================] - 3s 10ms/step - loss: 0.0473 - acc: 0.9835 - val_loss: 0.1723 - val_acc: 0.9510\n",
            "Epoch 91/120\n",
            "313/313 [==============================] - 3s 10ms/step - loss: 0.0519 - acc: 0.9836 - val_loss: 0.1796 - val_acc: 0.9540\n",
            "Epoch 92/120\n",
            "313/313 [==============================] - 3s 10ms/step - loss: 0.0498 - acc: 0.9849 - val_loss: 0.1689 - val_acc: 0.9500\n",
            "Epoch 93/120\n",
            "313/313 [==============================] - 3s 10ms/step - loss: 0.0500 - acc: 0.9864 - val_loss: 0.1810 - val_acc: 0.9460\n",
            "Epoch 94/120\n",
            "313/313 [==============================] - 3s 10ms/step - loss: 0.0457 - acc: 0.9873 - val_loss: 0.1840 - val_acc: 0.9470\n",
            "Epoch 95/120\n",
            "313/313 [==============================] - 3s 10ms/step - loss: 0.0409 - acc: 0.9877 - val_loss: 0.1794 - val_acc: 0.9550\n",
            "Epoch 96/120\n",
            "313/313 [==============================] - 3s 10ms/step - loss: 0.0436 - acc: 0.9870 - val_loss: 0.1614 - val_acc: 0.9520\n",
            "Epoch 97/120\n",
            "313/313 [==============================] - 3s 10ms/step - loss: 0.0409 - acc: 0.9877 - val_loss: 0.1615 - val_acc: 0.9560\n",
            "Epoch 98/120\n",
            "313/313 [==============================] - 3s 10ms/step - loss: 0.0420 - acc: 0.9871 - val_loss: 0.1724 - val_acc: 0.9530\n",
            "Epoch 99/120\n",
            "313/313 [==============================] - 3s 10ms/step - loss: 0.0419 - acc: 0.9882 - val_loss: 0.1845 - val_acc: 0.9560\n",
            "Epoch 100/120\n",
            "313/313 [==============================] - 3s 10ms/step - loss: 0.0424 - acc: 0.9882 - val_loss: 0.1817 - val_acc: 0.9490\n",
            "Epoch 101/120\n",
            "313/313 [==============================] - 3s 10ms/step - loss: 0.0400 - acc: 0.9879 - val_loss: 0.1858 - val_acc: 0.9520\n",
            "Epoch 102/120\n",
            "313/313 [==============================] - 3s 9ms/step - loss: 0.0396 - acc: 0.9872 - val_loss: 0.1907 - val_acc: 0.9520\n",
            "Epoch 103/120\n",
            "313/313 [==============================] - 3s 9ms/step - loss: 0.0359 - acc: 0.9896 - val_loss: 0.1750 - val_acc: 0.9530\n",
            "Epoch 104/120\n",
            "313/313 [==============================] - 3s 10ms/step - loss: 0.0424 - acc: 0.9871 - val_loss: 0.2003 - val_acc: 0.9540\n",
            "Epoch 105/120\n",
            "313/313 [==============================] - 3s 10ms/step - loss: 0.0400 - acc: 0.9875 - val_loss: 0.1687 - val_acc: 0.9590\n",
            "Epoch 106/120\n",
            "313/313 [==============================] - 3s 10ms/step - loss: 0.0408 - acc: 0.9873 - val_loss: 0.2029 - val_acc: 0.9500\n",
            "Epoch 107/120\n",
            "313/313 [==============================] - 3s 9ms/step - loss: 0.0376 - acc: 0.9891 - val_loss: 0.1709 - val_acc: 0.9560\n",
            "Epoch 108/120\n",
            "313/313 [==============================] - 3s 10ms/step - loss: 0.0328 - acc: 0.9895 - val_loss: 0.2114 - val_acc: 0.9550\n",
            "Epoch 109/120\n",
            "313/313 [==============================] - 3s 10ms/step - loss: 0.0358 - acc: 0.9899 - val_loss: 0.1699 - val_acc: 0.9520\n",
            "Epoch 110/120\n",
            "313/313 [==============================] - 3s 9ms/step - loss: 0.0384 - acc: 0.9885 - val_loss: 0.2010 - val_acc: 0.9550\n",
            "Epoch 111/120\n",
            "313/313 [==============================] - 3s 10ms/step - loss: 0.0372 - acc: 0.9888 - val_loss: 0.1588 - val_acc: 0.9620\n",
            "Epoch 112/120\n",
            "313/313 [==============================] - 3s 10ms/step - loss: 0.0327 - acc: 0.9906 - val_loss: 0.2254 - val_acc: 0.9490\n",
            "Epoch 113/120\n",
            "313/313 [==============================] - 3s 10ms/step - loss: 0.0385 - acc: 0.9904 - val_loss: 0.1756 - val_acc: 0.9540\n",
            "Epoch 114/120\n",
            "313/313 [==============================] - 3s 10ms/step - loss: 0.0315 - acc: 0.9905 - val_loss: 0.1733 - val_acc: 0.9580\n",
            "Epoch 115/120\n",
            "313/313 [==============================] - 3s 10ms/step - loss: 0.0330 - acc: 0.9908 - val_loss: 0.2231 - val_acc: 0.9510\n",
            "Epoch 116/120\n",
            "313/313 [==============================] - 3s 10ms/step - loss: 0.0286 - acc: 0.9920 - val_loss: 0.1786 - val_acc: 0.9580\n",
            "Epoch 117/120\n",
            "313/313 [==============================] - 3s 9ms/step - loss: 0.0376 - acc: 0.9913 - val_loss: 0.1623 - val_acc: 0.9660\n",
            "Epoch 118/120\n",
            "313/313 [==============================] - 3s 10ms/step - loss: 0.0286 - acc: 0.9914 - val_loss: 0.2017 - val_acc: 0.9550\n",
            "Epoch 119/120\n",
            "313/313 [==============================] - 3s 10ms/step - loss: 0.0288 - acc: 0.9899 - val_loss: 0.1778 - val_acc: 0.9610\n",
            "Epoch 120/120\n",
            "313/313 [==============================] - 3s 10ms/step - loss: 0.0365 - acc: 0.9907 - val_loss: 0.1666 - val_acc: 0.9580\n"
          ]
        },
        {
          "output_type": "stream",
          "name": "stderr",
          "text": [
            "/usr/local/lib/python3.7/dist-packages/keras/utils/generic_utils.py:497: CustomMaskWarning: Custom mask layers require a config and must override get_config. When loading, the custom mask layer must be passed to the custom_objects argument.\n",
            "  category=CustomMaskWarning)\n"
          ]
        }
      ]
    },
    {
      "cell_type": "code",
      "metadata": {
        "colab": {
          "base_uri": "https://localhost:8080/"
        },
        "id": "4u8ZjzcRE9L1",
        "outputId": "31da59d0-5d2e-4d97-802b-12199478c4df"
      },
      "source": [
        "print(\"\\n 테스트 정확도: %.4f\" % (model.evaluate([Xstest, Xqtest], Ytest)[1]))"
      ],
      "execution_count": null,
      "outputs": [
        {
          "output_type": "stream",
          "name": "stdout",
          "text": [
            "32/32 [==============================] - 0s 3ms/step - loss: 0.1666 - acc: 0.9580\n",
            "\n",
            " 테스트 정확도: 0.9580\n"
          ]
        }
      ]
    },
    {
      "cell_type": "code",
      "metadata": {
        "colab": {
          "base_uri": "https://localhost:8080/",
          "height": 297
        },
        "id": "1FAs5IVLE-t3",
        "outputId": "e6a00dcc-eb98-41c7-cfb9-66fe17acbf1d"
      },
      "source": [
        "# plot accuracy and loss plot\n",
        "plt.subplot(211)\n",
        "plt.title(\"Accuracy\")\n",
        "plt.plot(history.history[\"acc\"], color=\"g\", label=\"train\")\n",
        "plt.plot(history.history[\"val_acc\"], color=\"b\", label=\"validation\")\n",
        "plt.legend(loc=\"best\")\n",
        "\n",
        "plt.subplot(212)\n",
        "plt.title(\"Loss\")\n",
        "plt.plot(history.history[\"loss\"], color=\"g\", label=\"train\")\n",
        "plt.plot(history.history[\"val_loss\"], color=\"b\", label=\"validation\")\n",
        "plt.legend(loc=\"best\")\n",
        "\n",
        "plt.tight_layout()\n",
        "plt.show()\n",
        "\n",
        "# labels\n",
        "ytest = np.argmax(Ytest, axis=1)\n",
        "\n",
        "# get predictions\n",
        "Ytest_ = model.predict([Xstest, Xqtest])\n",
        "ytest_ = np.argmax(Ytest_, axis=1)"
      ],
      "execution_count": null,
      "outputs": [
        {
          "output_type": "display_data",
          "data": {
            "image/png": "[encoded data removed]",
            "text/plain": [
              "<Figure size 432x288 with 2 Axes>"
            ]
          },
          "metadata": {
            "needs_background": "light"
          }
        }
      ]
    },
    {
      "cell_type": "markdown",
      "metadata": {
        "id": "ktt34R7EGRZM"
      },
      "source": [
        "# 메모리 네트워크를 이용한 한국어 QA"
      ]
    },
    {
      "cell_type": "markdown",
      "metadata": {
        "id": "Tq0aHOs0GWCP"
      },
      "source": [
        "데이터는 각각 아래의 링크에서 다운로드 할 수 있습니다.  \n",
        "훈련 데이터 : https://bit.ly/31SqtHy  \n",
        "테스트 데이터 : https://bit.ly/3f7rH5g"
      ]
    },
    {
      "cell_type": "markdown",
      "metadata": {
        "id": "x9XiEZRvGXJJ"
      },
      "source": [
        "## 단어 사전 등록이 간편한 형태소 분석기 customized_konlpy"
      ]
    },
    {
      "cell_type": "code",
      "metadata": {
        "colab": {
          "base_uri": "https://localhost:8080/",
          "height": 318
        },
        "id": "Us3UZp-tQPmT",
        "outputId": "cd573911-4ddc-4ff2-f901-14e41a3ca595"
      },
      "source": [
        "pip install customized_konlpy"
      ],
      "execution_count": null,
      "outputs": [
        {
          "name": "stdout",
          "output_type": "stream",
          "text": [
            "Requirement already satisfied: customized_konlpy in /usr/local/lib/python3.6/dist-packages (0.0.64)\n",
            "Requirement already satisfied: Jpype1>=0.6.1 in /usr/local/lib/python3.6/dist-packages (from customized_konlpy) (0.7.5)\n",
            "Requirement already satisfied: konlpy>=0.4.4 in /usr/local/lib/python3.6/dist-packages (from customized_konlpy) (0.5.2)\n",
            "Requirement already satisfied: numpy>=1.6 in /usr/local/lib/python3.6/dist-packages (from konlpy>=0.4.4->customized_konlpy) (1.18.5)\n",
            "Requirement already satisfied: colorama in /usr/local/lib/python3.6/dist-packages (from konlpy>=0.4.4->customized_konlpy) (0.4.3)\n",
            "Requirement already satisfied: lxml>=4.1.0 in /usr/local/lib/python3.6/dist-packages (from konlpy>=0.4.4->customized_konlpy) (4.2.6)\n",
            "Requirement already satisfied: tweepy>=3.7.0 in /usr/local/lib/python3.6/dist-packages (from konlpy>=0.4.4->customized_konlpy) (3.8.0)\n",
            "Requirement already satisfied: beautifulsoup4==4.6.0 in /usr/local/lib/python3.6/dist-packages (from konlpy>=0.4.4->customized_konlpy) (4.6.0)\n",
            "Requirement already satisfied: requests>=2.11.1 in /usr/local/lib/python3.6/dist-packages (from tweepy>=3.7.0->konlpy>=0.4.4->customized_konlpy) (2.23.0)\n",
            "Requirement already satisfied: requests-oauthlib>=0.7.0 in /usr/local/lib/python3.6/dist-packages (from tweepy>=3.7.0->konlpy>=0.4.4->customized_konlpy) (1.3.0)\n",
            "Requirement already satisfied: six>=1.10.0 in /usr/local/lib/python3.6/dist-packages (from tweepy>=3.7.0->konlpy>=0.4.4->customized_konlpy) (1.12.0)\n",
            "Requirement already satisfied: PySocks>=1.5.7 in /usr/local/lib/python3.6/dist-packages (from tweepy>=3.7.0->konlpy>=0.4.4->customized_konlpy) (1.7.1)\n",
            "Requirement already satisfied: urllib3!=1.25.0,!=1.25.1,<1.26,>=1.21.1 in /usr/local/lib/python3.6/dist-packages (from requests>=2.11.1->tweepy>=3.7.0->konlpy>=0.4.4->customized_konlpy) (1.24.3)\n",
            "Requirement already satisfied: chardet<4,>=3.0.2 in /usr/local/lib/python3.6/dist-packages (from requests>=2.11.1->tweepy>=3.7.0->konlpy>=0.4.4->customized_konlpy) (3.0.4)\n",
            "Requirement already satisfied: idna<3,>=2.5 in /usr/local/lib/python3.6/dist-packages (from requests>=2.11.1->tweepy>=3.7.0->konlpy>=0.4.4->customized_konlpy) (2.9)\n",
            "Requirement already satisfied: certifi>=2017.4.17 in /usr/local/lib/python3.6/dist-packages (from requests>=2.11.1->tweepy>=3.7.0->konlpy>=0.4.4->customized_konlpy) (2020.6.20)\n",
            "Requirement already satisfied: oauthlib>=3.0.0 in /usr/local/lib/python3.6/dist-packages (from requests-oauthlib>=0.7.0->tweepy>=3.7.0->konlpy>=0.4.4->customized_konlpy) (3.1.0)\n"
          ]
        }
      ]
    },
    {
      "cell_type": "code",
      "metadata": {
        "id": "uEgY4ShzQudC"
      },
      "source": [
        "from ckonlpy.tag import Twitter"
      ],
      "execution_count": null,
      "outputs": []
    },
    {
      "cell_type": "code",
      "metadata": {
        "colab": {
          "base_uri": "https://localhost:8080/",
          "height": 70
        },
        "id": "HHNd8PuTQoQK",
        "outputId": "77716e12-9d05-4204-95e0-e98a4abf2d2f"
      },
      "source": [
        "twitter = Twitter()\n",
        "twitter.morphs('은경이는 사무실로 갔습니다.')"
      ],
      "execution_count": null,
      "outputs": [
        {
          "name": "stderr",
          "output_type": "stream",
          "text": [
            "/usr/local/lib/python3.6/dist-packages/konlpy/tag/_okt.py:16: UserWarning: \"Twitter\" has changed to \"Okt\" since KoNLPy v0.4.5.\n",
            "  warn('\"Twitter\" has changed to \"Okt\" since KoNLPy v0.4.5.')\n"
          ]
        },
        {
          "data": {
            "text/plain": [
              "['은', '경이', '는', '사무실', '로', '갔습니다', '.']"
            ]
          },
          "execution_count": 101,
          "metadata": {
            "tags": []
          },
          "output_type": "execute_result"
        }
      ]
    },
    {
      "cell_type": "code",
      "metadata": {
        "colab": {
          "base_uri": "https://localhost:8080/",
          "height": 34
        },
        "id": "3Oke4Hd8Qr0r",
        "outputId": "4dd39abb-4cf5-45c5-b98f-7ffb3a4b7cb7"
      },
      "source": [
        "twitter.add_dictionary('은경이', 'Noun')\n",
        "twitter.morphs('은경이는 사무실로 갔습니다.')"
      ],
      "execution_count": null,
      "outputs": [
        {
          "data": {
            "text/plain": [
              "['은경이', '는', '사무실', '로', '갔습니다', '.']"
            ]
          },
          "execution_count": 102,
          "metadata": {
            "tags": []
          },
          "output_type": "execute_result"
        }
      ]
    },
    {
      "cell_type": "markdown",
      "metadata": {
        "id": "ZDopEhHUGb7C"
      },
      "source": [
        "## 데이터 로드"
      ]
    },
    {
      "cell_type": "code",
      "metadata": {
        "id": "7bkg6sr9QQMy"
      },
      "source": [
        "from ckonlpy.tag import Twitter\n",
        "from tensorflow.keras.utils import get_file\n",
        "from tensorflow.keras.preprocessing.sequence import pad_sequences\n",
        "from tensorflow.keras.utils import to_categorical\n",
        "import numpy as np\n",
        "from nltk import FreqDist\n",
        "from functools import reduce\n",
        "import os\n",
        "import re\n",
        "import matplotlib.pyplot as plt"
      ],
      "execution_count": null,
      "outputs": []
    },
    {
      "cell_type": "code",
      "metadata": {
        "id": "h4A77lkgQFzJ"
      },
      "source": [
        "TRAIN_FILE = os.path.join(\"qa1_single-supporting-fact_train_kor.txt\")\n",
        "TEST_FILE = os.path.join(\"qa1_single-supporting-fact_test_kor.txt\")"
      ],
      "execution_count": null,
      "outputs": []
    },
    {
      "cell_type": "markdown",
      "metadata": {
        "id": "J9Cm6WlUGdkr"
      },
      "source": [
        "## Babi 데이터셋 확인"
      ]
    },
    {
      "cell_type": "code",
      "metadata": {
        "colab": {
          "base_uri": "https://localhost:8080/",
          "height": 372
        },
        "id": "H0RfBIooRJqq",
        "outputId": "282ca1c3-0316-45a3-c1fd-bf562861f899"
      },
      "source": [
        "i = 0\n",
        "lines = open(TRAIN_FILE , \"rb\")\n",
        "for line in lines:\n",
        "    line = line.decode(\"utf-8\").strip()\n",
        "    # lno, text = line.split(\" \", 1) # ID와 TEXT 분리\n",
        "    i = i + 1\n",
        "    print(line)\n",
        "    if i == 20:\n",
        "      break"
      ],
      "execution_count": null,
      "outputs": [
        {
          "name": "stdout",
          "output_type": "stream",
          "text": [
            "1 필웅이는 화장실로 갔습니다.\n",
            "2 은경이는 복도로 이동했습니다.\n",
            "3 필웅이는 어디야? \t화장실\t1\n",
            "4 수종이는 복도로 복귀했습니다.\n",
            "5 경임이는 정원으로 갔습니다.\n",
            "6 수종이는 어디야? \t복도\t4\n",
            "7 은경이는 사무실로 갔습니다.\n",
            "8 경임이는 화장실로 뛰어갔습니다.\n",
            "9 수종이는 어디야? \t복도\t4\n",
            "10 필웅이는 복도로 갔습니다.\n",
            "11 수종이는 사무실로 가버렸습니다.\n",
            "12 수종이는 어디야? \t사무실\t11\n",
            "13 은경이는 정원으로 복귀했습니다.\n",
            "14 은경이는 침실로 갔습니다.\n",
            "15 경임이는 어디야? \t화장실\t8\n",
            "1 경임이는 사무실로 가버렸습니다.\n",
            "2 경임이는 화장실로 이동했습니다.\n",
            "3 경임이는 어디야? \t화장실\t2\n",
            "4 필웅이는 침실로 이동했습니다.\n",
            "5 수종이는 복도로 갔습니다.\n"
          ]
        }
      ]
    },
    {
      "cell_type": "markdown",
      "metadata": {
        "id": "vMiWML_tGfLY"
      },
      "source": [
        "## 스토리, 질문, 답변 분리"
      ]
    },
    {
      "cell_type": "code",
      "metadata": {
        "id": "Y_IwuvrBRNeA"
      },
      "source": [
        "def read_data(dir):\n",
        "    stories, questions, answers = [], [], [] # 각각 스토리, 질문, 답변을 저장할 예정\n",
        "    story_temp = [] # 현재 시점의 스토리 임시 저장\n",
        "    lines = open(dir, \"rb\")\n",
        "\n",
        "    for line in lines:\n",
        "        line = line.decode(\"utf-8\") # b' 제거\n",
        "        line = line.strip() # '\\n' 제거\n",
        "        idx, text = line.split(\" \", 1) # 맨 앞에 있는 id number 분리\n",
        "        # 여기까지는 모든 줄에 적용되는 전처리\n",
        "\n",
        "        if int(idx) == 1:\n",
        "            story_temp = []\n",
        "\n",
        "        if \"\\t\" in text: # 현재 읽는 줄이 질문 (tab) 답변 (tab)인 경우\n",
        "            question, answer, _ = text.split(\"\\t\") # 질문과 답변을 각각 저장\n",
        "            stories.append([x for x in story_temp if x]) # 지금까지의 누적 스토리를 스토리에 저장\n",
        "            questions.append(question)\n",
        "            answers.append(answer)\n",
        "\n",
        "        else: # 현재 읽는 줄이 스토리인 경우\n",
        "            story_temp.append(text) # 임시 저장\n",
        "\n",
        "    lines.close()\n",
        "    return stories, questions, answers"
      ],
      "execution_count": null,
      "outputs": []
    },
    {
      "cell_type": "code",
      "metadata": {
        "id": "RabIlPFPWgaa"
      },
      "source": [
        "train_data = read_data(TRAIN_FILE)\n",
        "test_data = read_data(TEST_FILE)"
      ],
      "execution_count": null,
      "outputs": []
    },
    {
      "cell_type": "code",
      "metadata": {
        "id": "UGPZuNgMRQHg"
      },
      "source": [
        "train_stories, train_questions, train_answers = read_data(TRAIN_FILE)\n",
        "test_stories, test_questions, test_answers = read_data(TEST_FILE)"
      ],
      "execution_count": null,
      "outputs": []
    },
    {
      "cell_type": "code",
      "metadata": {
        "colab": {
          "base_uri": "https://localhost:8080/",
          "height": 123
        },
        "id": "enIOcAh2RRbw",
        "outputId": "343516d3-ae0e-4316-cecd-7774a4a030e3"
      },
      "source": [
        "print('훈련용 스토리의 개수 :', len(train_stories))\n",
        "print('훈련용 질문의 개수 :',len(train_questions))\n",
        "print('훈련용 답변의 개수 :',len(train_answers))\n",
        "print('테스트용 스토리의 개수 :',len(test_stories))\n",
        "print('테스트용 질문의 개수 :',len(test_questions))\n",
        "print('테스트용 답변의 개수 :',len(test_answers))"
      ],
      "execution_count": null,
      "outputs": [
        {
          "name": "stdout",
          "output_type": "stream",
          "text": [
            "훈련용 스토리의 개수 : 10000\n",
            "훈련용 질문의 개수 : 10000\n",
            "훈련용 답변의 개수 : 10000\n",
            "테스트용 스토리의 개수 : 1000\n",
            "테스트용 질문의 개수 : 1000\n",
            "테스트용 답변의 개수 : 1000\n"
          ]
        }
      ]
    },
    {
      "cell_type": "code",
      "metadata": {
        "colab": {
          "base_uri": "https://localhost:8080/",
          "height": 123
        },
        "id": "D8Wm1KHjRSjI",
        "outputId": "a955ddfa-671a-4480-ce1b-d84a1ffc9c3f"
      },
      "source": [
        "train_stories[3572]"
      ],
      "execution_count": null,
      "outputs": [
        {
          "data": {
            "text/plain": [
              "['은경이는 부엌으로 가버렸습니다.',\n",
              " '필웅이는 사무실로 가버렸습니다.',\n",
              " '수종이는 복도로 뛰어갔습니다.',\n",
              " '은경이는 사무실로 복귀했습니다.',\n",
              " '경임이는 사무실로 이동했습니다.',\n",
              " '경임이는 침실로 갔습니다.']"
            ]
          },
          "execution_count": 111,
          "metadata": {
            "tags": []
          },
          "output_type": "execute_result"
        }
      ]
    },
    {
      "cell_type": "code",
      "metadata": {
        "colab": {
          "base_uri": "https://localhost:8080/",
          "height": 34
        },
        "id": "Thg7HE61RT14",
        "outputId": "2f8fdaf3-5d82-4a26-e799-07b1564b445c"
      },
      "source": [
        "train_questions[3572]"
      ],
      "execution_count": null,
      "outputs": [
        {
          "data": {
            "application/vnd.google.colaboratory.intrinsic": {
              "type": "string"
            },
            "text/plain": [
              "'은경이는 어디야? '"
            ]
          },
          "execution_count": 112,
          "metadata": {
            "tags": []
          },
          "output_type": "execute_result"
        }
      ]
    },
    {
      "cell_type": "code",
      "metadata": {
        "colab": {
          "base_uri": "https://localhost:8080/",
          "height": 34
        },
        "id": "a_bB2m_HRXIA",
        "outputId": "e6fab148-0e26-4a3a-c4df-5ce7ed7a942e"
      },
      "source": [
        "train_answers[3572]"
      ],
      "execution_count": null,
      "outputs": [
        {
          "data": {
            "application/vnd.google.colaboratory.intrinsic": {
              "type": "string"
            },
            "text/plain": [
              "'사무실'"
            ]
          },
          "execution_count": 113,
          "metadata": {
            "tags": []
          },
          "output_type": "execute_result"
        }
      ]
    },
    {
      "cell_type": "markdown",
      "metadata": {
        "id": "pnDC9aq2GiPZ"
      },
      "source": [
        "## 단어 집합 생성 및 토큰화 및 스토리와 질문의 최대 길이 구하기  "
      ]
    },
    {
      "cell_type": "markdown",
      "metadata": {
        "id": "ZD2OBre7GzQZ"
      },
      "source": [
        "이제 토큰화 함수를 정의하고, 이로부터 Vocabulary를 생성하는 함수를 만들어봅시다. 아래의 함수는 영어 데이터셋에 사용했던 토큰화 함수와 동일합니다. 현재는 한국어이므로 아래의 토큰화 함수를 그대로 사용하는 것은 바람직하지는 않지만, 임시로 사용해보겠습니다. 어절 단위로 했을 때 어떤 단어들이 있는지 출력해보기 위함입니다."
      ]
    },
    {
      "cell_type": "code",
      "metadata": {
        "id": "jJGkCdQ4WBRi"
      },
      "source": [
        "def tokenize(sent):\n",
        "    return [ x.strip() for x in re.split('(\\W+)?', sent) if x.strip()]"
      ],
      "execution_count": null,
      "outputs": []
    },
    {
      "cell_type": "code",
      "metadata": {
        "id": "xiMTed3WWCD7"
      },
      "source": [
        "def preprocess_data(train_data, test_data):\n",
        "    counter = FreqDist()\n",
        "\n",
        "    # 두 문장의 story를 하나의 문장으로 통합하는 함수\n",
        "    flatten = lambda data: reduce(lambda x, y: x + y, data)\n",
        "\n",
        "    # 각 샘플의 길이를 저장하는 리스트\n",
        "    story_len = []\n",
        "    question_len = []\n",
        "\n",
        "    for stories, questions, answers in [train_data, test_data]:\n",
        "        for story in stories:\n",
        "            stories = tokenize(flatten(story)) # 스토리의 문장들을 펼친 후 토큰화\n",
        "            story_len.append(len(stories)) # 각 story의 길이 저장\n",
        "            for word in stories: # 단어 집합에 단어 추가\n",
        "                counter[word] += 1\n",
        "        for question in questions:\n",
        "            question = tokenize(question)\n",
        "            question_len.append(len(question))\n",
        "            for word in question:\n",
        "                counter[word] += 1\n",
        "        for answer in answers:\n",
        "            answer = tokenize(answer)\n",
        "            for word in answer:\n",
        "                counter[word] += 1\n",
        "\n",
        "    # 단어 집합 생성\n",
        "    word2idx = {word : (idx + 1) for idx, (word, _) in enumerate(counter.most_common())}\n",
        "    idx2word = {idx : word for word, idx in word2idx.items()}\n",
        "\n",
        "    # 가장 긴 샘플의 길이\n",
        "    story_max_len = np.max(story_len)\n",
        "    question_max_len = np.max(question_len)\n",
        "\n",
        "    return word2idx, idx2word, story_max_len, question_max_len"
      ],
      "execution_count": null,
      "outputs": []
    },
    {
      "cell_type": "markdown",
      "metadata": {
        "id": "p_dlGJpYGuqH"
      },
      "source": [
        "word2idx를 출력해봅시다."
      ]
    },
    {
      "cell_type": "code",
      "metadata": {
        "colab": {
          "base_uri": "https://localhost:8080/",
          "height": 52
        },
        "id": "UMQLgV1oWF1k",
        "outputId": "98b1d9c7-59d0-46dc-ebaf-3377141a818d"
      },
      "source": [
        "word2idx, idx2word, story_max_len, question_max_len = preprocess_data(train_data, test_data)"
      ],
      "execution_count": null,
      "outputs": [
        {
          "name": "stderr",
          "output_type": "stream",
          "text": [
            "/usr/lib/python3.6/re.py:212: FutureWarning: split() requires a non-empty pattern match.\n",
            "  return _compile(pattern, flags).split(string, maxsplit)\n"
          ]
        }
      ]
    },
    {
      "cell_type": "code",
      "metadata": {
        "colab": {
          "base_uri": "https://localhost:8080/",
          "height": 54
        },
        "id": "3erH8vSjWjsP",
        "outputId": "25329c95-05dc-4c61-8dfc-a849ad884793"
      },
      "source": [
        "print(word2idx)"
      ],
      "execution_count": null,
      "outputs": [
        {
          "name": "stdout",
          "output_type": "stream",
          "text": [
            "{'.': 1, '경임이는': 2, '은경이는': 3, '수종이는': 4, '필웅이는': 5, '이동했습니다': 6, '가버렸습니다': 7, '뛰어갔습니다': 8, '복귀했습니다': 9, '갔습니다': 10, '화장실로': 11, '정원으로': 12, '복도로': 13, '어디야': 14, '?': 15, '부엌으로': 16, '사무실로': 17, '침실로': 18, '화장실': 19, '정원': 20, '사무실': 21, '침실': 22, '복도': 23, '부엌': 24}\n"
          ]
        }
      ]
    },
    {
      "cell_type": "markdown",
      "metadata": {
        "id": "oh-6vL5XG6Im"
      },
      "source": [
        "띄어쓰기 단위, 다시 말해 어절 단위로 했을 때 나오는 총 토큰의 수는 24개입니다. 19번 토큰부터 24번 토큰까지를 봤을 때 장소에 해당되는 명사들은 '화장실', '정원', '사무실', '침실', '복도', '부엌'이 있는 것 같습니다. 그렇다면, 11번 토큰부터 19번 토큰 사이에 등장하는 '화장실로', '정원으로', '복도로', '부엌으로', '사무실로', '침실로'로 분리된 토큰들은 형태소 분석을 하였을 때 전부 '화장실', '정원', '사무실', '침실', '복도', '부엌'으로 분리되어야 합니다."
      ]
    },
    {
      "cell_type": "markdown",
      "metadata": {
        "id": "GYXcFUZTGsBT"
      },
      "source": [
        "## 형태소 분석기 사전 등록"
      ]
    },
    {
      "cell_type": "markdown",
      "metadata": {
        "id": "jlwR3nwaXQwo"
      },
      "source": [
        "'화장실로, 정원으로, 복도로, 부엌으로, 사무실로, 침실로'가 형태소 분석기가 정상적으로 분리하는지 확인이 필요함."
      ]
    },
    {
      "cell_type": "code",
      "metadata": {
        "colab": {
          "base_uri": "https://localhost:8080/",
          "height": 52
        },
        "id": "i2RE7DQ9RYMY",
        "outputId": "f17256c2-3e19-4704-f06e-10001e38b491"
      },
      "source": [
        "twitter = Twitter()"
      ],
      "execution_count": null,
      "outputs": [
        {
          "name": "stderr",
          "output_type": "stream",
          "text": [
            "/usr/local/lib/python3.6/dist-packages/konlpy/tag/_okt.py:16: UserWarning: \"Twitter\" has changed to \"Okt\" since KoNLPy v0.4.5.\n",
            "  warn('\"Twitter\" has changed to \"Okt\" since KoNLPy v0.4.5.')\n"
          ]
        }
      ]
    },
    {
      "cell_type": "code",
      "metadata": {
        "colab": {
          "base_uri": "https://localhost:8080/",
          "height": 123
        },
        "id": "A0F7PjuyRtew",
        "outputId": "77f1e77a-a572-419e-b825-80ad58707d9a"
      },
      "source": [
        "print(twitter.morphs('은경이는 화장실로 이동했습니다.'))\n",
        "print(twitter.morphs('경임이는 정원으로 가버렸습니다.'))\n",
        "print(twitter.morphs('수종이는 복도로 뛰어갔습니다.'))\n",
        "print(twitter.morphs('필웅이는 부엌으로 복귀했습니다.'))\n",
        "print(twitter.morphs('수종이는 사무실로 갔습니다.'))\n",
        "print(twitter.morphs('은경이는 침실로 갔습니다.'))"
      ],
      "execution_count": null,
      "outputs": [
        {
          "name": "stdout",
          "output_type": "stream",
          "text": [
            "['은', '경이', '는', '화장실', '로', '이동', '했습니다', '.']\n",
            "['경', '임', '이', '는', '정원', '으로', '가버렸습니다', '.']\n",
            "['수종', '이', '는', '복도', '로', '뛰어갔습니다', '.']\n",
            "['필웅이', '는', '부엌', '으로', '복귀', '했습니다', '.']\n",
            "['수종', '이', '는', '사무실', '로', '갔습니다', '.']\n",
            "['은', '경이', '는', '침실', '로', '갔습니다', '.']\n"
          ]
        }
      ]
    },
    {
      "cell_type": "code",
      "metadata": {
        "id": "qsYWIKfRVsKS"
      },
      "source": [
        "twitter.add_dictionary('은경이', 'Noun')\n",
        "twitter.add_dictionary('경임이', 'Noun')\n",
        "twitter.add_dictionary('수종이', 'Noun')"
      ],
      "execution_count": null,
      "outputs": []
    },
    {
      "cell_type": "code",
      "metadata": {
        "colab": {
          "base_uri": "https://localhost:8080/",
          "height": 123
        },
        "id": "uYUFcbCBbbA-",
        "outputId": "50f45174-66ec-4700-86ae-aae279b36157"
      },
      "source": [
        "print(twitter.morphs('은경이는 화장실로 이동했습니다.'))\n",
        "print(twitter.morphs('경임이는 정원으로 가버렸습니다.'))\n",
        "print(twitter.morphs('수종이는 복도로 뛰어갔습니다.'))\n",
        "print(twitter.morphs('필웅이는 부엌으로 복귀했습니다.'))\n",
        "print(twitter.morphs('수종이는 사무실로 갔습니다.'))\n",
        "print(twitter.morphs('은경이는 침실로 갔습니다.'))"
      ],
      "execution_count": null,
      "outputs": [
        {
          "name": "stdout",
          "output_type": "stream",
          "text": [
            "['은경이', '는', '화장실', '로', '이동', '했습니다', '.']\n",
            "['경임이', '는', '정원', '으로', '가버렸습니다', '.']\n",
            "['수종이', '는', '복도', '로', '뛰어갔습니다', '.']\n",
            "['필웅이', '는', '부엌', '으로', '복귀', '했습니다', '.']\n",
            "['수종이', '는', '사무실', '로', '갔습니다', '.']\n",
            "['은경이', '는', '침실', '로', '갔습니다', '.']\n"
          ]
        }
      ]
    },
    {
      "cell_type": "markdown",
      "metadata": {
        "id": "vSLbfiHgHCF5"
      },
      "source": [
        "##단어 집합 생성 및 토큰화 및 스토리와 질문의 최대 길이 구하기(다시)"
      ]
    },
    {
      "cell_type": "code",
      "metadata": {
        "id": "uJr8X5lPV0DP"
      },
      "source": [
        "def tokenize(sent):\n",
        "    return twitter.morphs(sent)"
      ],
      "execution_count": null,
      "outputs": []
    },
    {
      "cell_type": "code",
      "metadata": {
        "id": "bY_OqDtUbLMZ"
      },
      "source": [
        "word2idx, idx2word, story_max_len, question_max_len = preprocess_data(train_data, test_data)"
      ],
      "execution_count": null,
      "outputs": []
    },
    {
      "cell_type": "code",
      "metadata": {
        "colab": {
          "base_uri": "https://localhost:8080/",
          "height": 54
        },
        "id": "3j5FIQQGbRFI",
        "outputId": "61b67bab-69df-459f-ee5b-2b52206ec7a5"
      },
      "source": [
        "print(word2idx)"
      ],
      "execution_count": null,
      "outputs": [
        {
          "name": "stdout",
          "output_type": "stream",
          "text": [
            "{'는': 1, '.': 2, '로': 3, '했습니다': 4, '으로': 5, '경임이': 6, '은경이': 7, '수종이': 8, '필웅이': 9, '이동': 10, '가버렸습니다': 11, '뛰어갔습니다': 12, '복귀': 13, '화장실': 14, '정원': 15, '복도': 16, '갔습니다': 17, '사무실': 18, '부엌': 19, '침실': 20, '어디': 21, '야': 22, '?': 23}\n"
          ]
        }
      ]
    },
    {
      "cell_type": "code",
      "metadata": {
        "colab": {
          "base_uri": "https://localhost:8080/",
          "height": 425
        },
        "id": "mCDO93srbtav",
        "outputId": "5e68eee5-3f63-455a-f54a-407e07737c89"
      },
      "source": [
        "idx2word"
      ],
      "execution_count": null,
      "outputs": [
        {
          "data": {
            "text/plain": [
              "{1: '는',\n",
              " 2: '.',\n",
              " 3: '로',\n",
              " 4: '했습니다',\n",
              " 5: '으로',\n",
              " 6: '경임이',\n",
              " 7: '은경이',\n",
              " 8: '수종이',\n",
              " 9: '필웅이',\n",
              " 10: '이동',\n",
              " 11: '가버렸습니다',\n",
              " 12: '뛰어갔습니다',\n",
              " 13: '복귀',\n",
              " 14: '화장실',\n",
              " 15: '정원',\n",
              " 16: '복도',\n",
              " 17: '갔습니다',\n",
              " 18: '사무실',\n",
              " 19: '부엌',\n",
              " 20: '침실',\n",
              " 21: '어디',\n",
              " 22: '야',\n",
              " 23: '?'}"
            ]
          },
          "execution_count": 82,
          "metadata": {
            "tags": []
          },
          "output_type": "execute_result"
        }
      ]
    },
    {
      "cell_type": "code",
      "metadata": {
        "colab": {
          "base_uri": "https://localhost:8080/",
          "height": 34
        },
        "id": "sTflyTBRb0UH",
        "outputId": "8bec16b5-d79d-4b3a-c75b-6fb057155775"
      },
      "source": [
        "vocab_size = len(word2idx) + 1\n",
        "print(vocab_size)"
      ],
      "execution_count": null,
      "outputs": [
        {
          "name": "stdout",
          "output_type": "stream",
          "text": [
            "24\n"
          ]
        }
      ]
    },
    {
      "cell_type": "code",
      "metadata": {
        "colab": {
          "base_uri": "https://localhost:8080/",
          "height": 52
        },
        "id": "oWnDG29FcFzW",
        "outputId": "4a3a7cd1-320e-4995-dfdc-eea0c359c98b"
      },
      "source": [
        "print('스토리의 최대 길이 :',story_max_len)\n",
        "print('질문의 최대 길이 :',question_max_len)"
      ],
      "execution_count": null,
      "outputs": [
        {
          "name": "stdout",
          "output_type": "stream",
          "text": [
            "스토리의 최대 길이 : 70\n",
            "질문의 최대 길이 : 5\n"
          ]
        }
      ]
    },
    {
      "cell_type": "markdown",
      "metadata": {
        "id": "DwwzIsKmHH66"
      },
      "source": [
        "## 정수 인코딩 및 패딩"
      ]
    },
    {
      "cell_type": "code",
      "metadata": {
        "id": "RVtQY63LcG6W"
      },
      "source": [
        "def vectorize(data, word2idx, story_maxlen, question_maxlen):\n",
        "    Xs, Xq, Y = [], [], []\n",
        "    flatten = lambda data: reduce(lambda x, y: x + y, data)\n",
        "\n",
        "    stories, questions, answers = data\n",
        "    for story, question, answer in zip(stories, questions, answers):\n",
        "        xs = [word2idx[w] for w in tokenize(flatten(story))]\n",
        "        xq = [word2idx[w] for w in tokenize(question)]\n",
        "        Xs.append(xs)\n",
        "        Xq.append(xq)\n",
        "        Y.append(word2idx[answer])\n",
        "\n",
        "        # 스토리와 질문은 각각의 최대 길이로 패딩\n",
        "        # 정답은 원-핫 인코딩\n",
        "    return pad_sequences(Xs, maxlen=story_maxlen),\\\n",
        "           pad_sequences(Xq, maxlen=question_maxlen),\\\n",
        "           to_categorical(Y, num_classes=len(word2idx) + 1)"
      ],
      "execution_count": null,
      "outputs": []
    },
    {
      "cell_type": "code",
      "metadata": {
        "id": "p8toMbSHcISP"
      },
      "source": [
        "Xstrain, Xqtrain, Ytrain = vectorize(train_data, word2idx, story_max_len, question_max_len)\n",
        "Xstest, Xqtest, Ytest = vectorize(test_data, word2idx, story_max_len, question_max_len)"
      ],
      "execution_count": null,
      "outputs": []
    },
    {
      "cell_type": "code",
      "metadata": {
        "colab": {
          "base_uri": "https://localhost:8080/",
          "height": 34
        },
        "id": "puLdisufcJVu",
        "outputId": "7b13564d-16b0-446e-e91f-d1836917b214"
      },
      "source": [
        "print(Xstrain.shape, Xqtrain.shape, Ytrain.shape, Xstest.shape, Xqtest.shape, Ytest.shape)"
      ],
      "execution_count": null,
      "outputs": [
        {
          "name": "stdout",
          "output_type": "stream",
          "text": [
            "(10000, 70) (10000, 5) (10000, 24) (1000, 70) (1000, 5) (1000, 24)\n"
          ]
        }
      ]
    },
    {
      "cell_type": "markdown",
      "metadata": {
        "id": "AvYHNf2tHJwj"
      },
      "source": [
        "## 메모리 네트워크 구현"
      ]
    },
    {
      "cell_type": "code",
      "metadata": {
        "id": "Ey3XSg9AcKhu"
      },
      "source": [
        "from tensorflow.keras.models import Sequential, Model\n",
        "from tensorflow.keras.layers import Embedding\n",
        "from tensorflow.keras.layers import Permute, dot, add, concatenate\n",
        "from tensorflow.keras.layers import LSTM, Dense, Dropout, Input, Activation"
      ],
      "execution_count": null,
      "outputs": []
    },
    {
      "cell_type": "code",
      "metadata": {
        "id": "cWqGB8WJcLwu"
      },
      "source": [
        "# 에포크 횟수\n",
        "train_epochs = 120\n",
        "# 배치 크기\n",
        "batch_size = 32\n",
        "# 임베딩 크기\n",
        "embed_size = 50\n",
        "# LSTM의 크기\n",
        "lstm_size = 64\n",
        "# 과적합 방지 기법인 드롭아웃 적용 비율\n",
        "dropout_rate = 0.30"
      ],
      "execution_count": null,
      "outputs": []
    },
    {
      "cell_type": "code",
      "metadata": {
        "colab": {
          "base_uri": "https://localhost:8080/",
          "height": 52
        },
        "id": "KiSgI55icNJu",
        "outputId": "d0ce9b17-ef22-45c9-f37f-522f5180baeb"
      },
      "source": [
        "# 플레이스 홀더. 입력을 담는 변수\n",
        "input_sequence = Input((story_max_len,))\n",
        "question = Input((question_max_len,))\n",
        "\n",
        "print('Stories :', input_sequence)\n",
        "print('Question:', question)"
      ],
      "execution_count": null,
      "outputs": [
        {
          "name": "stdout",
          "output_type": "stream",
          "text": [
            "Stories : Tensor(\"input_1:0\", shape=(None, 70), dtype=float32)\n",
            "Question: Tensor(\"input_2:0\", shape=(None, 5), dtype=float32)\n"
          ]
        }
      ]
    },
    {
      "cell_type": "code",
      "metadata": {
        "id": "zUeW2Jt1cPSV"
      },
      "source": [
        "# 스토리를 위한 첫번째 임베딩. 그림에서의 Embedding A\n",
        "input_encoder_m = Sequential()\n",
        "input_encoder_m.add(Embedding(input_dim=vocab_size,\n",
        "                              output_dim=embed_size))\n",
        "input_encoder_m.add(Dropout(dropout_rate))\n",
        "# 결과 : (samples, story_max_len, embedding_dim) / 샘플의 수, 문장의 최대 길이, 임베딩 벡터의 차원\n",
        "\n",
        "# 스토리를 위한 두번째 임베딩. 그림에서의 Embedding C\n",
        "# 임베딩 벡터의 차원을 question_max_len(질문의 최대 길이)로 한다.\n",
        "input_encoder_c = Sequential()\n",
        "input_encoder_c.add(Embedding(input_dim=vocab_size,\n",
        "                              output_dim=question_max_len))\n",
        "input_encoder_c.add(Dropout(dropout_rate))\n",
        "# 결과 : (samples, story_max_len, question_max_len) / 샘플의 수, 문장의 최대 길이, 질문의 최대 길이(임베딩 벡터의 차원)"
      ],
      "execution_count": null,
      "outputs": []
    },
    {
      "cell_type": "code",
      "metadata": {
        "id": "xvbx-92tcQt-"
      },
      "source": [
        "# 질문을 위한 임베딩. 그림에서의 Embedding B\n",
        "question_encoder = Sequential()\n",
        "question_encoder.add(Embedding(input_dim=vocab_size,\n",
        "                               output_dim=embed_size,\n",
        "                               input_length=question_max_len))\n",
        "question_encoder.add(Dropout(dropout_rate))\n",
        "# 결과 : (samples, question_max_len, embedding_dim) / 샘플의 수, 질문의 최대 길이, 임베딩 벡터의 차원"
      ],
      "execution_count": null,
      "outputs": []
    },
    {
      "cell_type": "code",
      "metadata": {
        "colab": {
          "base_uri": "https://localhost:8080/",
          "height": 70
        },
        "id": "E5dctAXZcR6d",
        "outputId": "24e0747b-a9a8-4699-8563-7ef1222b6a96"
      },
      "source": [
        "# 실질적인 임베딩 과정\n",
        "input_encoded_m = input_encoder_m(input_sequence)\n",
        "input_encoded_c = input_encoder_c(input_sequence)\n",
        "question_encoded = question_encoder(question)\n",
        "\n",
        "print('Input encoded m', input_encoded_m)\n",
        "print('Input encoded c', input_encoded_c)\n",
        "print('Question encoded', question_encoded)"
      ],
      "execution_count": null,
      "outputs": [
        {
          "name": "stdout",
          "output_type": "stream",
          "text": [
            "Input encoded m Tensor(\"sequential/Identity:0\", shape=(None, 70, 50), dtype=float32)\n",
            "Input encoded c Tensor(\"sequential_1/Identity:0\", shape=(None, 70, 5), dtype=float32)\n",
            "Question encoded Tensor(\"sequential_2/Identity:0\", shape=(None, 5, 50), dtype=float32)\n"
          ]
        }
      ]
    },
    {
      "cell_type": "code",
      "metadata": {
        "colab": {
          "base_uri": "https://localhost:8080/",
          "height": 70
        },
        "id": "e-L-up6FcVj-",
        "outputId": "02dae2aa-b2ea-44b9-c554-d85ff861498c"
      },
      "source": [
        "# 스토리 단어들과 질문 단어들 간의 유사도를 구하는 과정\n",
        "# 유사도는 내적을 사용한다.\n",
        "match = dot([input_encoded_m, question_encoded], axes=-1, normalize=False)\n",
        "match = Activation('softmax')(match)\n",
        "print('Match shape', match)\n",
        "# 결과 : (samples, story_maxlen, question_max_len) / 샘플의 수, 문장의 최대 길이, 질문의 최대 길이\n",
        "\n",
        "# add the match matrix with the second input vector sequence\n",
        "response = add([match, input_encoded_c])  # (samples, story_max_len, question_max_len)\n",
        "response = Permute((2, 1))(response)  # (samples, question_max_len, story_max_len)\n",
        "print('Response shape', response)\n",
        "\n",
        "# concatenate the response vector with the question vector sequence\n",
        "answer = concatenate([response, question_encoded])\n",
        "print('Answer shape', answer)\n",
        "\n",
        "answer = LSTM(lstm_size)(answer)  # Generate tensors of shape 32\n",
        "answer = Dropout(dropout_rate)(answer)\n",
        "answer = Dense(vocab_size)(answer)  # (samples, vocab_size)\n",
        "# we output a probability distribution over the vocabulary\n",
        "answer = Activation('softmax')(answer)"
      ],
      "execution_count": null,
      "outputs": [
        {
          "name": "stdout",
          "output_type": "stream",
          "text": [
            "Match shape Tensor(\"activation/Identity:0\", shape=(None, 70, 5), dtype=float32)\n",
            "Response shape Tensor(\"permute/Identity:0\", shape=(None, 5, 70), dtype=float32)\n",
            "Answer shape Tensor(\"concatenate/Identity:0\", shape=(None, 5, 120), dtype=float32)\n"
          ]
        }
      ]
    },
    {
      "cell_type": "code",
      "metadata": {
        "colab": {
          "base_uri": "https://localhost:8080/",
          "height": 1000
        },
        "id": "EW5px9B4cYUV",
        "outputId": "9ee7cf2d-2c52-4f85-82b8-356dd28e9a10"
      },
      "source": [
        "# build the final model\n",
        "model = Model([input_sequence, question], answer)\n",
        "model.compile(optimizer='rmsprop', loss='categorical_crossentropy',\n",
        "              metrics=['acc'])\n",
        "\n",
        "print(model.summary())\n",
        "\n",
        "# start training the model\n",
        "history = model.fit([Xstrain, Xqtrain],\n",
        "         Ytrain, batch_size, train_epochs,\n",
        "         validation_data=([Xstest, Xqtest], Ytest))\n",
        "\n",
        "# save model\n",
        "model.save('model.h5')"
      ],
      "execution_count": null,
      "outputs": [
        {
          "name": "stdout",
          "output_type": "stream",
          "text": [
            "Model: \"model\"\n",
            "__________________________________________________________________________________________________\n",
            "Layer (type)                    Output Shape         Param #     Connected to                     \n",
            "==================================================================================================\n",
            "input_1 (InputLayer)            [(None, 70)]         0                                            \n",
            "__________________________________________________________________________________________________\n",
            "input_2 (InputLayer)            [(None, 5)]          0                                            \n",
            "__________________________________________________________________________________________________\n",
            "sequential (Sequential)         multiple             1200        input_1[0][0]                    \n",
            "__________________________________________________________________________________________________\n",
            "sequential_2 (Sequential)       (None, 5, 50)        1200        input_2[0][0]                    \n",
            "__________________________________________________________________________________________________\n",
            "dot (Dot)                       (None, 70, 5)        0           sequential[1][0]                 \n",
            "                                                                 sequential_2[1][0]               \n",
            "__________________________________________________________________________________________________\n",
            "activation (Activation)         (None, 70, 5)        0           dot[0][0]                        \n",
            "__________________________________________________________________________________________________\n",
            "sequential_1 (Sequential)       multiple             120         input_1[0][0]                    \n",
            "__________________________________________________________________________________________________\n",
            "add (Add)                       (None, 70, 5)        0           activation[0][0]                 \n",
            "                                                                 sequential_1[1][0]               \n",
            "__________________________________________________________________________________________________\n",
            "permute (Permute)               (None, 5, 70)        0           add[0][0]                        \n",
            "__________________________________________________________________________________________________\n",
            "concatenate (Concatenate)       (None, 5, 120)       0           permute[0][0]                    \n",
            "                                                                 sequential_2[1][0]               \n",
            "__________________________________________________________________________________________________\n",
            "lstm (LSTM)                     (None, 64)           47360       concatenate[0][0]                \n",
            "__________________________________________________________________________________________________\n",
            "dropout_3 (Dropout)             (None, 64)           0           lstm[0][0]                       \n",
            "__________________________________________________________________________________________________\n",
            "dense (Dense)                   (None, 24)           1560        dropout_3[0][0]                  \n",
            "__________________________________________________________________________________________________\n",
            "activation_1 (Activation)       (None, 24)           0           dense[0][0]                      \n",
            "==================================================================================================\n",
            "Total params: 51,440\n",
            "Trainable params: 51,440\n",
            "Non-trainable params: 0\n",
            "__________________________________________________________________________________________________\n",
            "None\n",
            "Epoch 1/120\n",
            "313/313 [==============================] - 4s 13ms/step - loss: 1.8982 - acc: 0.1693 - val_loss: 1.7868 - val_acc: 0.2470\n",
            "Epoch 2/120\n",
            "313/313 [==============================] - 3s 10ms/step - loss: 1.7075 - acc: 0.2567 - val_loss: 1.6049 - val_acc: 0.3870\n",
            "Epoch 3/120\n",
            "313/313 [==============================] - 3s 10ms/step - loss: 1.5579 - acc: 0.3737 - val_loss: 1.4619 - val_acc: 0.4140\n",
            "Epoch 4/120\n",
            "313/313 [==============================] - 3s 10ms/step - loss: 1.4848 - acc: 0.4171 - val_loss: 1.4182 - val_acc: 0.4510\n",
            "Epoch 5/120\n",
            "313/313 [==============================] - 3s 9ms/step - loss: 1.4464 - acc: 0.4446 - val_loss: 1.4419 - val_acc: 0.4200\n",
            "Epoch 6/120\n",
            "313/313 [==============================] - 3s 10ms/step - loss: 1.4159 - acc: 0.4557 - val_loss: 1.3817 - val_acc: 0.4640\n",
            "Epoch 7/120\n",
            "313/313 [==============================] - 3s 10ms/step - loss: 1.3700 - acc: 0.4781 - val_loss: 1.3279 - val_acc: 0.5040\n",
            "Epoch 8/120\n",
            "313/313 [==============================] - 3s 9ms/step - loss: 1.3283 - acc: 0.4939 - val_loss: 1.2875 - val_acc: 0.5190\n",
            "Epoch 9/120\n",
            "313/313 [==============================] - 3s 10ms/step - loss: 1.3025 - acc: 0.5037 - val_loss: 1.2792 - val_acc: 0.5020\n",
            "Epoch 10/120\n",
            "313/313 [==============================] - 3s 10ms/step - loss: 1.2779 - acc: 0.5098 - val_loss: 1.2808 - val_acc: 0.4930\n",
            "Epoch 11/120\n",
            "313/313 [==============================] - 3s 10ms/step - loss: 1.2613 - acc: 0.5132 - val_loss: 1.2507 - val_acc: 0.5360\n",
            "Epoch 12/120\n",
            "313/313 [==============================] - 3s 10ms/step - loss: 1.2470 - acc: 0.5163 - val_loss: 1.2421 - val_acc: 0.5180\n",
            "Epoch 13/120\n",
            "313/313 [==============================] - 3s 10ms/step - loss: 1.2273 - acc: 0.5204 - val_loss: 1.2253 - val_acc: 0.5200\n",
            "Epoch 14/120\n",
            "313/313 [==============================] - 3s 10ms/step - loss: 1.2214 - acc: 0.5276 - val_loss: 1.2376 - val_acc: 0.5270\n",
            "Epoch 15/120\n",
            "313/313 [==============================] - 3s 10ms/step - loss: 1.2049 - acc: 0.5250 - val_loss: 1.2172 - val_acc: 0.5220\n",
            "Epoch 16/120\n",
            "313/313 [==============================] - 3s 10ms/step - loss: 1.2003 - acc: 0.5222 - val_loss: 1.2091 - val_acc: 0.5170\n",
            "Epoch 17/120\n",
            "313/313 [==============================] - 3s 10ms/step - loss: 1.1844 - acc: 0.5322 - val_loss: 1.2151 - val_acc: 0.5180\n",
            "Epoch 18/120\n",
            "313/313 [==============================] - 3s 10ms/step - loss: 1.1694 - acc: 0.5303 - val_loss: 1.2158 - val_acc: 0.5210\n",
            "Epoch 19/120\n",
            "313/313 [==============================] - 3s 9ms/step - loss: 1.1671 - acc: 0.5376 - val_loss: 1.2055 - val_acc: 0.5280\n",
            "Epoch 20/120\n",
            "313/313 [==============================] - 3s 10ms/step - loss: 1.1515 - acc: 0.5399 - val_loss: 1.2079 - val_acc: 0.5250\n",
            "Epoch 21/120\n",
            "313/313 [==============================] - 3s 10ms/step - loss: 1.1460 - acc: 0.5387 - val_loss: 1.2003 - val_acc: 0.5140\n",
            "Epoch 22/120\n",
            "313/313 [==============================] - 3s 10ms/step - loss: 1.1382 - acc: 0.5410 - val_loss: 1.2025 - val_acc: 0.5140\n",
            "Epoch 23/120\n",
            "313/313 [==============================] - 3s 11ms/step - loss: 1.1280 - acc: 0.5433 - val_loss: 1.1976 - val_acc: 0.5100\n",
            "Epoch 24/120\n",
            "313/313 [==============================] - 3s 10ms/step - loss: 1.1137 - acc: 0.5499 - val_loss: 1.2152 - val_acc: 0.5300\n",
            "Epoch 25/120\n",
            "313/313 [==============================] - 3s 10ms/step - loss: 1.1129 - acc: 0.5511 - val_loss: 1.2064 - val_acc: 0.5190\n",
            "Epoch 26/120\n",
            "313/313 [==============================] - 3s 10ms/step - loss: 1.1060 - acc: 0.5502 - val_loss: 1.2110 - val_acc: 0.5210\n",
            "Epoch 27/120\n",
            "313/313 [==============================] - 3s 10ms/step - loss: 1.0963 - acc: 0.5571 - val_loss: 1.2037 - val_acc: 0.5250\n",
            "Epoch 28/120\n",
            "313/313 [==============================] - 3s 10ms/step - loss: 1.0846 - acc: 0.5529 - val_loss: 1.2028 - val_acc: 0.5170\n",
            "Epoch 29/120\n",
            "313/313 [==============================] - 3s 10ms/step - loss: 1.0789 - acc: 0.5555 - val_loss: 1.2014 - val_acc: 0.5100\n",
            "Epoch 30/120\n",
            "313/313 [==============================] - 3s 10ms/step - loss: 1.0681 - acc: 0.5614 - val_loss: 1.2123 - val_acc: 0.5170\n",
            "Epoch 31/120\n",
            "313/313 [==============================] - 3s 10ms/step - loss: 1.0644 - acc: 0.5656 - val_loss: 1.2151 - val_acc: 0.5170\n",
            "Epoch 32/120\n",
            "313/313 [==============================] - 3s 10ms/step - loss: 1.0516 - acc: 0.5719 - val_loss: 1.2093 - val_acc: 0.5210\n",
            "Epoch 33/120\n",
            "313/313 [==============================] - 3s 10ms/step - loss: 1.0395 - acc: 0.5749 - val_loss: 1.2333 - val_acc: 0.5160\n",
            "Epoch 34/120\n",
            "313/313 [==============================] - 3s 9ms/step - loss: 1.0355 - acc: 0.5745 - val_loss: 1.2217 - val_acc: 0.5180\n",
            "Epoch 35/120\n",
            "313/313 [==============================] - 3s 9ms/step - loss: 1.0319 - acc: 0.5769 - val_loss: 1.2105 - val_acc: 0.5160\n",
            "Epoch 36/120\n",
            "313/313 [==============================] - 3s 9ms/step - loss: 1.0250 - acc: 0.5721 - val_loss: 1.2358 - val_acc: 0.5150\n",
            "Epoch 37/120\n",
            "313/313 [==============================] - 3s 10ms/step - loss: 1.0151 - acc: 0.5820 - val_loss: 1.2152 - val_acc: 0.5130\n",
            "Epoch 38/120\n",
            "313/313 [==============================] - 3s 9ms/step - loss: 1.0022 - acc: 0.5903 - val_loss: 1.2352 - val_acc: 0.5190\n",
            "Epoch 39/120\n",
            "313/313 [==============================] - 3s 10ms/step - loss: 0.9950 - acc: 0.5869 - val_loss: 1.2399 - val_acc: 0.4980\n",
            "Epoch 40/120\n",
            "313/313 [==============================] - 3s 10ms/step - loss: 0.9837 - acc: 0.5938 - val_loss: 1.2542 - val_acc: 0.5020\n",
            "Epoch 41/120\n",
            "313/313 [==============================] - 3s 9ms/step - loss: 0.9710 - acc: 0.6014 - val_loss: 1.2608 - val_acc: 0.4990\n",
            "Epoch 42/120\n",
            "313/313 [==============================] - 3s 9ms/step - loss: 0.9587 - acc: 0.6077 - val_loss: 1.2451 - val_acc: 0.5060\n",
            "Epoch 43/120\n",
            "313/313 [==============================] - 3s 10ms/step - loss: 0.9472 - acc: 0.6113 - val_loss: 1.2598 - val_acc: 0.5020\n",
            "Epoch 44/120\n",
            "313/313 [==============================] - 3s 9ms/step - loss: 0.9454 - acc: 0.6126 - val_loss: 1.2911 - val_acc: 0.4950\n",
            "Epoch 45/120\n",
            "313/313 [==============================] - 3s 9ms/step - loss: 0.9342 - acc: 0.6181 - val_loss: 1.2848 - val_acc: 0.4920\n",
            "Epoch 46/120\n",
            "313/313 [==============================] - 3s 9ms/step - loss: 0.9166 - acc: 0.6267 - val_loss: 1.2639 - val_acc: 0.5150\n",
            "Epoch 47/120\n",
            "313/313 [==============================] - 3s 10ms/step - loss: 0.8987 - acc: 0.6323 - val_loss: 1.2585 - val_acc: 0.5180\n",
            "Epoch 48/120\n",
            "313/313 [==============================] - 3s 10ms/step - loss: 0.8820 - acc: 0.6481 - val_loss: 1.2005 - val_acc: 0.5480\n",
            "Epoch 49/120\n",
            "313/313 [==============================] - 3s 9ms/step - loss: 0.8306 - acc: 0.6789 - val_loss: 1.1183 - val_acc: 0.6080\n",
            "Epoch 50/120\n",
            "313/313 [==============================] - 3s 9ms/step - loss: 0.7546 - acc: 0.7191 - val_loss: 0.9644 - val_acc: 0.6590\n",
            "Epoch 51/120\n",
            "313/313 [==============================] - 3s 9ms/step - loss: 0.6478 - acc: 0.7680 - val_loss: 0.8642 - val_acc: 0.6960\n",
            "Epoch 52/120\n",
            "313/313 [==============================] - 3s 9ms/step - loss: 0.5953 - acc: 0.7882 - val_loss: 0.7975 - val_acc: 0.7250\n",
            "Epoch 53/120\n",
            "313/313 [==============================] - 3s 10ms/step - loss: 0.5391 - acc: 0.8089 - val_loss: 0.7459 - val_acc: 0.7310\n",
            "Epoch 54/120\n",
            "313/313 [==============================] - 3s 10ms/step - loss: 0.5151 - acc: 0.8147 - val_loss: 0.7087 - val_acc: 0.7480\n",
            "Epoch 55/120\n",
            "313/313 [==============================] - 3s 9ms/step - loss: 0.4799 - acc: 0.8273 - val_loss: 0.6861 - val_acc: 0.7570\n",
            "Epoch 56/120\n",
            "313/313 [==============================] - 3s 10ms/step - loss: 0.4362 - acc: 0.8423 - val_loss: 0.6764 - val_acc: 0.7580\n",
            "Epoch 57/120\n",
            "313/313 [==============================] - 3s 9ms/step - loss: 0.4055 - acc: 0.8540 - val_loss: 0.6075 - val_acc: 0.7880\n",
            "Epoch 58/120\n",
            "313/313 [==============================] - 3s 10ms/step - loss: 0.3672 - acc: 0.8681 - val_loss: 0.5702 - val_acc: 0.7950\n",
            "Epoch 59/120\n",
            "313/313 [==============================] - 3s 9ms/step - loss: 0.3476 - acc: 0.8743 - val_loss: 0.5195 - val_acc: 0.8060\n",
            "Epoch 60/120\n",
            "313/313 [==============================] - 3s 9ms/step - loss: 0.3306 - acc: 0.8822 - val_loss: 0.5008 - val_acc: 0.8180\n",
            "Epoch 61/120\n",
            "313/313 [==============================] - 3s 10ms/step - loss: 0.3030 - acc: 0.8882 - val_loss: 0.4881 - val_acc: 0.8210\n",
            "Epoch 62/120\n",
            "313/313 [==============================] - 3s 9ms/step - loss: 0.2943 - acc: 0.8948 - val_loss: 0.4893 - val_acc: 0.8200\n",
            "Epoch 63/120\n",
            "313/313 [==============================] - 3s 10ms/step - loss: 0.2711 - acc: 0.9023 - val_loss: 0.4696 - val_acc: 0.8310\n",
            "Epoch 64/120\n",
            "313/313 [==============================] - 3s 9ms/step - loss: 0.2590 - acc: 0.9074 - val_loss: 0.4844 - val_acc: 0.8270\n",
            "Epoch 65/120\n",
            "313/313 [==============================] - 3s 10ms/step - loss: 0.2523 - acc: 0.9122 - val_loss: 0.4768 - val_acc: 0.8360\n",
            "Epoch 66/120\n",
            "313/313 [==============================] - 3s 9ms/step - loss: 0.2380 - acc: 0.9167 - val_loss: 0.4523 - val_acc: 0.8420\n",
            "Epoch 67/120\n",
            "313/313 [==============================] - 3s 9ms/step - loss: 0.2282 - acc: 0.9203 - val_loss: 0.4842 - val_acc: 0.8310\n",
            "Epoch 68/120\n",
            "313/313 [==============================] - 3s 10ms/step - loss: 0.2187 - acc: 0.9202 - val_loss: 0.4729 - val_acc: 0.8320\n",
            "Epoch 69/120\n",
            "313/313 [==============================] - 3s 10ms/step - loss: 0.2094 - acc: 0.9247 - val_loss: 0.4587 - val_acc: 0.8450\n",
            "Epoch 70/120\n",
            "313/313 [==============================] - 3s 10ms/step - loss: 0.2014 - acc: 0.9281 - val_loss: 0.4453 - val_acc: 0.8560\n",
            "Epoch 71/120\n",
            "313/313 [==============================] - 3s 10ms/step - loss: 0.1968 - acc: 0.9297 - val_loss: 0.4455 - val_acc: 0.8560\n",
            "Epoch 72/120\n",
            "313/313 [==============================] - 3s 10ms/step - loss: 0.1782 - acc: 0.9345 - val_loss: 0.4398 - val_acc: 0.8550\n",
            "Epoch 73/120\n",
            "313/313 [==============================] - 3s 10ms/step - loss: 0.1735 - acc: 0.9378 - val_loss: 0.4628 - val_acc: 0.8540\n",
            "Epoch 74/120\n",
            "313/313 [==============================] - 3s 10ms/step - loss: 0.1653 - acc: 0.9423 - val_loss: 0.4432 - val_acc: 0.8570\n",
            "Epoch 75/120\n",
            "313/313 [==============================] - 3s 10ms/step - loss: 0.1595 - acc: 0.9426 - val_loss: 0.4374 - val_acc: 0.8590\n",
            "Epoch 76/120\n",
            "313/313 [==============================] - 3s 10ms/step - loss: 0.1544 - acc: 0.9452 - val_loss: 0.4240 - val_acc: 0.8610\n",
            "Epoch 77/120\n",
            "313/313 [==============================] - 3s 10ms/step - loss: 0.1514 - acc: 0.9462 - val_loss: 0.4426 - val_acc: 0.8630\n",
            "Epoch 78/120\n",
            "313/313 [==============================] - 3s 10ms/step - loss: 0.1356 - acc: 0.9524 - val_loss: 0.4601 - val_acc: 0.8640\n",
            "Epoch 79/120\n",
            "313/313 [==============================] - 3s 10ms/step - loss: 0.1364 - acc: 0.9504 - val_loss: 0.4300 - val_acc: 0.8650\n",
            "Epoch 80/120\n",
            "313/313 [==============================] - 3s 10ms/step - loss: 0.1339 - acc: 0.9534 - val_loss: 0.4160 - val_acc: 0.8800\n",
            "Epoch 81/120\n",
            "313/313 [==============================] - 3s 10ms/step - loss: 0.1264 - acc: 0.9555 - val_loss: 0.4788 - val_acc: 0.8650\n",
            "Epoch 82/120\n",
            "313/313 [==============================] - 3s 10ms/step - loss: 0.1164 - acc: 0.9595 - val_loss: 0.4635 - val_acc: 0.8620\n",
            "Epoch 83/120\n",
            "313/313 [==============================] - 3s 10ms/step - loss: 0.1194 - acc: 0.9589 - val_loss: 0.4393 - val_acc: 0.8820\n",
            "Epoch 84/120\n",
            "313/313 [==============================] - 3s 10ms/step - loss: 0.1023 - acc: 0.9654 - val_loss: 0.4558 - val_acc: 0.8750\n",
            "Epoch 85/120\n",
            "313/313 [==============================] - 3s 10ms/step - loss: 0.1129 - acc: 0.9615 - val_loss: 0.4342 - val_acc: 0.8820\n",
            "Epoch 86/120\n",
            "313/313 [==============================] - 3s 10ms/step - loss: 0.1029 - acc: 0.9653 - val_loss: 0.4146 - val_acc: 0.8840\n",
            "Epoch 87/120\n",
            "313/313 [==============================] - 3s 10ms/step - loss: 0.0970 - acc: 0.9671 - val_loss: 0.4296 - val_acc: 0.8870\n",
            "Epoch 88/120\n",
            "313/313 [==============================] - 3s 10ms/step - loss: 0.0982 - acc: 0.9670 - val_loss: 0.4720 - val_acc: 0.8810\n",
            "Epoch 89/120\n",
            "313/313 [==============================] - 3s 10ms/step - loss: 0.0862 - acc: 0.9709 - val_loss: 0.4282 - val_acc: 0.8880\n",
            "Epoch 90/120\n",
            "313/313 [==============================] - 3s 10ms/step - loss: 0.0855 - acc: 0.9706 - val_loss: 0.4450 - val_acc: 0.8880\n",
            "Epoch 91/120\n",
            "313/313 [==============================] - 3s 10ms/step - loss: 0.0950 - acc: 0.9683 - val_loss: 0.4410 - val_acc: 0.8780\n",
            "Epoch 92/120\n",
            "313/313 [==============================] - 3s 10ms/step - loss: 0.0879 - acc: 0.9688 - val_loss: 0.4145 - val_acc: 0.8930\n",
            "Epoch 93/120\n",
            "313/313 [==============================] - 3s 10ms/step - loss: 0.0865 - acc: 0.9716 - val_loss: 0.4516 - val_acc: 0.8850\n",
            "Epoch 94/120\n",
            "313/313 [==============================] - 3s 10ms/step - loss: 0.0792 - acc: 0.9748 - val_loss: 0.4393 - val_acc: 0.8800\n",
            "Epoch 95/120\n",
            "313/313 [==============================] - 3s 10ms/step - loss: 0.0753 - acc: 0.9749 - val_loss: 0.4709 - val_acc: 0.8910\n",
            "Epoch 96/120\n",
            "313/313 [==============================] - 3s 10ms/step - loss: 0.0765 - acc: 0.9750 - val_loss: 0.4645 - val_acc: 0.8870\n",
            "Epoch 97/120\n",
            "313/313 [==============================] - 3s 10ms/step - loss: 0.0679 - acc: 0.9785 - val_loss: 0.4555 - val_acc: 0.8870\n",
            "Epoch 98/120\n",
            "313/313 [==============================] - 3s 10ms/step - loss: 0.0674 - acc: 0.9767 - val_loss: 0.4529 - val_acc: 0.8950\n",
            "Epoch 99/120\n",
            "313/313 [==============================] - 3s 10ms/step - loss: 0.0663 - acc: 0.9773 - val_loss: 0.4423 - val_acc: 0.8960\n",
            "Epoch 100/120\n",
            "313/313 [==============================] - 3s 10ms/step - loss: 0.0636 - acc: 0.9780 - val_loss: 0.4493 - val_acc: 0.8920\n",
            "Epoch 101/120\n",
            "313/313 [==============================] - 3s 10ms/step - loss: 0.0660 - acc: 0.9770 - val_loss: 0.4228 - val_acc: 0.9000\n",
            "Epoch 102/120\n",
            "313/313 [==============================] - 3s 10ms/step - loss: 0.0649 - acc: 0.9793 - val_loss: 0.4401 - val_acc: 0.8960\n",
            "Epoch 103/120\n",
            "313/313 [==============================] - 3s 10ms/step - loss: 0.0566 - acc: 0.9801 - val_loss: 0.4814 - val_acc: 0.8980\n",
            "Epoch 104/120\n",
            "313/313 [==============================] - 3s 10ms/step - loss: 0.0544 - acc: 0.9828 - val_loss: 0.4836 - val_acc: 0.8960\n",
            "Epoch 105/120\n",
            "313/313 [==============================] - 3s 10ms/step - loss: 0.0556 - acc: 0.9819 - val_loss: 0.5037 - val_acc: 0.8950\n",
            "Epoch 106/120\n",
            "313/313 [==============================] - 3s 10ms/step - loss: 0.0553 - acc: 0.9816 - val_loss: 0.4691 - val_acc: 0.8950\n",
            "Epoch 107/120\n",
            "313/313 [==============================] - 3s 10ms/step - loss: 0.0516 - acc: 0.9830 - val_loss: 0.4764 - val_acc: 0.8950\n",
            "Epoch 108/120\n",
            "313/313 [==============================] - 3s 10ms/step - loss: 0.0500 - acc: 0.9834 - val_loss: 0.5337 - val_acc: 0.8800\n",
            "Epoch 109/120\n",
            "313/313 [==============================] - 3s 10ms/step - loss: 0.0528 - acc: 0.9834 - val_loss: 0.4939 - val_acc: 0.8960\n",
            "Epoch 110/120\n",
            "313/313 [==============================] - 3s 10ms/step - loss: 0.0483 - acc: 0.9845 - val_loss: 0.5018 - val_acc: 0.8910\n",
            "Epoch 111/120\n",
            "313/313 [==============================] - 3s 10ms/step - loss: 0.0495 - acc: 0.9855 - val_loss: 0.4642 - val_acc: 0.8980\n",
            "Epoch 112/120\n",
            "313/313 [==============================] - 3s 10ms/step - loss: 0.0410 - acc: 0.9871 - val_loss: 0.5153 - val_acc: 0.8990\n",
            "Epoch 113/120\n",
            "313/313 [==============================] - 3s 10ms/step - loss: 0.0465 - acc: 0.9870 - val_loss: 0.5266 - val_acc: 0.8990\n",
            "Epoch 114/120\n",
            "313/313 [==============================] - 3s 10ms/step - loss: 0.0464 - acc: 0.9854 - val_loss: 0.4907 - val_acc: 0.9020\n",
            "Epoch 115/120\n",
            "313/313 [==============================] - 3s 10ms/step - loss: 0.0417 - acc: 0.9864 - val_loss: 0.5617 - val_acc: 0.8920\n",
            "Epoch 116/120\n",
            "313/313 [==============================] - 3s 10ms/step - loss: 0.0362 - acc: 0.9881 - val_loss: 0.4869 - val_acc: 0.9030\n",
            "Epoch 117/120\n",
            "313/313 [==============================] - 3s 10ms/step - loss: 0.0348 - acc: 0.9891 - val_loss: 0.4923 - val_acc: 0.9060\n",
            "Epoch 118/120\n",
            "313/313 [==============================] - 3s 10ms/step - loss: 0.0401 - acc: 0.9893 - val_loss: 0.5041 - val_acc: 0.9020\n",
            "Epoch 119/120\n",
            "313/313 [==============================] - 3s 10ms/step - loss: 0.0365 - acc: 0.9871 - val_loss: 0.4627 - val_acc: 0.9050\n",
            "Epoch 120/120\n",
            "313/313 [==============================] - 3s 10ms/step - loss: 0.0397 - acc: 0.9883 - val_loss: 0.5235 - val_acc: 0.9060\n"
          ]
        }
      ]
    },
    {
      "cell_type": "code",
      "metadata": {
        "colab": {
          "base_uri": "https://localhost:8080/",
          "height": 296
        },
        "id": "Iq7PYePXccGu",
        "outputId": "01a53dc9-46d7-4ac5-c40e-de5ec1e31b1a"
      },
      "source": [
        "# plot accuracy and loss plot\n",
        "plt.subplot(211)\n",
        "plt.title(\"Accuracy\")\n",
        "plt.plot(history.history[\"acc\"], color=\"g\", label=\"train\")\n",
        "plt.plot(history.history[\"val_acc\"], color=\"b\", label=\"validation\")\n",
        "plt.legend(loc=\"best\")\n",
        "\n",
        "plt.subplot(212)\n",
        "plt.title(\"Loss\")\n",
        "plt.plot(history.history[\"loss\"], color=\"g\", label=\"train\")\n",
        "plt.plot(history.history[\"val_loss\"], color=\"b\", label=\"validation\")\n",
        "plt.legend(loc=\"best\")\n",
        "\n",
        "plt.tight_layout()\n",
        "plt.show()\n",
        "\n",
        "# labels\n",
        "ytest = np.argmax(Ytest, axis=1)\n",
        "\n",
        "# get predictions\n",
        "Ytest_ = model.predict([Xstest, Xqtest])\n",
        "ytest_ = np.argmax(Ytest_, axis=1)"
      ],
      "execution_count": null,
      "outputs": [
        {
          "data": {
            "image/png": "[encoded data removed]",
            "text/plain": [
              "<Figure size 432x288 with 2 Axes>"
            ]
          },
          "metadata": {
            "tags": []
          },
          "output_type": "display_data"
        }
      ]
    },
    {
      "cell_type": "code",
      "metadata": {
        "colab": {
          "base_uri": "https://localhost:8080/",
          "height": 585
        },
        "id": "Fq0_LEp9eIA2",
        "outputId": "9451512d-05c8-40aa-eaac-48e305950309"
      },
      "source": [
        "NUM_DISPLAY = 30\n",
        "\n",
        "print(\"{:18}|{:5}|{}\".format(\"질문\", \"실제값\", \"예측값\"))\n",
        "print(39 * \"-\")\n",
        "\n",
        "for i in range(NUM_DISPLAY):\n",
        "    question = \" \".join([idx2word[x] for x in Xqtest[i].tolist()])\n",
        "    label = idx2word[ytest[i]]\n",
        "    prediction = idx2word[ytest_[i]]\n",
        "    print(\"{:20}: {:7} {}\".format(question, label, prediction))"
      ],
      "execution_count": null,
      "outputs": [
        {
          "name": "stdout",
          "output_type": "stream",
          "text": [
            "질문                |실제값  |예측값\n",
            "---------------------------------------\n",
            "은경이 는 어디 야 ?        : 복도      복도\n",
            "필웅이 는 어디 야 ?        : 화장실     화장실\n",
            "경임이 는 어디 야 ?        : 부엌      부엌\n",
            "경임이 는 어디 야 ?        : 복도      복도\n",
            "경임이 는 어디 야 ?        : 부엌      부엌\n",
            "경임이 는 어디 야 ?        : 복도      복도\n",
            "경임이 는 어디 야 ?        : 정원      정원\n",
            "수종이 는 어디 야 ?        : 복도      복도\n",
            "경임이 는 어디 야 ?        : 사무실     복도\n",
            "수종이 는 어디 야 ?        : 사무실     복도\n",
            "필웅이 는 어디 야 ?        : 부엌      부엌\n",
            "필웅이 는 어디 야 ?        : 정원      정원\n",
            "수종이 는 어디 야 ?        : 사무실     사무실\n",
            "필웅이 는 어디 야 ?        : 침실      침실\n",
            "필웅이 는 어디 야 ?        : 침실      침실\n",
            "은경이 는 어디 야 ?        : 부엌      부엌\n",
            "은경이 는 어디 야 ?        : 정원      정원\n",
            "은경이 는 어디 야 ?        : 부엌      부엌\n",
            "수종이 는 어디 야 ?        : 사무실     부엌\n",
            "은경이 는 어디 야 ?        : 부엌      정원\n",
            "필웅이 는 어디 야 ?        : 복도      복도\n",
            "은경이 는 어디 야 ?        : 사무실     사무실\n",
            "은경이 는 어디 야 ?        : 사무실     사무실\n",
            "경임이 는 어디 야 ?        : 복도      사무실\n",
            "수종이 는 어디 야 ?        : 침실      침실\n",
            "경임이 는 어디 야 ?        : 침실      침실\n",
            "필웅이 는 어디 야 ?        : 침실      침실\n",
            "수종이 는 어디 야 ?        : 부엌      부엌\n",
            "수종이 는 어디 야 ?        : 부엌      부엌\n",
            "수종이 는 어디 야 ?        : 부엌      복도\n"
          ]
        }
      ]
    }
  ]
}